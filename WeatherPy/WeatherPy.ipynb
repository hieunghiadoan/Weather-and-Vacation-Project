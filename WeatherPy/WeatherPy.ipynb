{
 "cells": [
  {
   "cell_type": "markdown",
   "metadata": {},
   "source": [
    "# WeatherPy\n",
    "\n",
    "---\n",
    "\n",
    "## Starter Code to Generate Random Geographic Coordinates and a List of Cities"
   ]
  },
  {
   "cell_type": "code",
   "execution_count": 28,
   "metadata": {
    "scrolled": true
   },
   "outputs": [],
   "source": [
    "# Dependencies and Setup\n",
    "import matplotlib.pyplot as plt\n",
    "import pandas as pd\n",
    "import numpy as np\n",
    "import requests\n",
    "import time\n",
    "import scipy.stats as st\n",
    "from scipy.stats import linregress\n",
    "# Impor the OpenWeatherMap API key\n",
    "from api_keys import weather_api_key\n",
    "\n",
    "# Import citipy to determine the cities based on latitude and longitude\n",
    "from citipy import citipy"
   ]
  },
  {
   "cell_type": "markdown",
   "metadata": {},
   "source": [
    "### Generate the Cities List by Using the `citipy` Library"
   ]
  },
  {
   "cell_type": "code",
   "execution_count": 4,
   "metadata": {},
   "outputs": [
    {
     "name": "stdout",
     "output_type": "stream",
     "text": [
      "Number of cities in the list: 633\n"
     ]
    }
   ],
   "source": [
    "# Empty list for holding the latitude and longitude combinations\n",
    "lat_lngs = []\n",
    "\n",
    "# Empty list for holding the cities names\n",
    "cities = []\n",
    "\n",
    "# Range of latitudes and longitudes\n",
    "lat_range = (-90, 90)\n",
    "lng_range = (-180, 180)\n",
    "\n",
    "# Create a set of random lat and lng combinations\n",
    "lats = np.random.uniform(lat_range[0], lat_range[1], size=1500)\n",
    "lngs = np.random.uniform(lng_range[0], lng_range[1], size=1500)\n",
    "lat_lngs = zip(lats, lngs)\n",
    "\n",
    "# Identify nearest city for each lat, lng combination\n",
    "for lat_lng in lat_lngs:\n",
    "    city = citipy.nearest_city(lat_lng[0], lat_lng[1]).city_name\n",
    "    \n",
    "    # If the city is unique, then add it to a our cities list\n",
    "    if city not in cities:\n",
    "        cities.append(city)\n",
    "\n",
    "# Print the city count to confirm sufficient count\n",
    "print(f\"Number of cities in the list: {len(cities)}\")\n"
   ]
  },
  {
   "cell_type": "markdown",
   "metadata": {},
   "source": [
    "---"
   ]
  },
  {
   "cell_type": "markdown",
   "metadata": {},
   "source": [
    "## Requirement 1: Create Plots to Showcase the Relationship Between Weather Variables and Latitude\n",
    "\n",
    "### Use the OpenWeatherMap API to retrieve weather data from the cities list generated in the started code"
   ]
  },
  {
   "cell_type": "code",
   "execution_count": 5,
   "metadata": {},
   "outputs": [
    {
     "name": "stdout",
     "output_type": "stream",
     "text": [
      "Beginning Data Retrieval     \n",
      "-----------------------------\n",
      "Processing Record 1 of Set 1 | east london\n",
      "Processing Record 2 of Set 1 | albany\n",
      "Processing Record 3 of Set 1 | santa barbara\n",
      "Processing Record 4 of Set 1 | cayenne\n",
      "Processing Record 5 of Set 1 | new norfolk\n",
      "Processing Record 6 of Set 1 | nantucket\n",
      "Processing Record 7 of Set 1 | naze\n",
      "Processing Record 8 of Set 1 | rikitea\n",
      "Processing Record 9 of Set 1 | punta arenas\n",
      "Processing Record 10 of Set 1 | samarai\n",
      "Processing Record 11 of Set 1 | yanchukan\n",
      "City not found. Skipping...\n",
      "Processing Record 12 of Set 1 | torit\n",
      "Processing Record 13 of Set 1 | berlevag\n",
      "Processing Record 14 of Set 1 | codrington\n",
      "Processing Record 15 of Set 1 | dali\n",
      "Processing Record 16 of Set 1 | ushuaia\n",
      "Processing Record 17 of Set 1 | camacha\n",
      "Processing Record 18 of Set 1 | qaanaaq\n",
      "Processing Record 19 of Set 1 | osterburg\n",
      "Processing Record 20 of Set 1 | muroto\n",
      "Processing Record 21 of Set 1 | taolanaro\n",
      "City not found. Skipping...\n",
      "Processing Record 22 of Set 1 | pevek\n",
      "Processing Record 23 of Set 1 | noumea\n",
      "Processing Record 24 of Set 1 | margate\n",
      "Processing Record 25 of Set 1 | caravelas\n",
      "Processing Record 26 of Set 1 | amderma\n",
      "City not found. Skipping...\n",
      "Processing Record 27 of Set 1 | baillif\n",
      "Processing Record 28 of Set 1 | balaguer\n",
      "Processing Record 29 of Set 1 | mar del plata\n",
      "Processing Record 30 of Set 1 | souillac\n",
      "Processing Record 31 of Set 1 | mahebourg\n",
      "Processing Record 32 of Set 1 | barrow\n",
      "Processing Record 33 of Set 1 | bonthe\n",
      "Processing Record 34 of Set 1 | tromso\n",
      "Processing Record 35 of Set 1 | khuzdar\n",
      "Processing Record 36 of Set 1 | yellowknife\n",
      "Processing Record 37 of Set 1 | mataura\n",
      "Processing Record 38 of Set 1 | sorland\n",
      "Processing Record 39 of Set 1 | san policarpo\n",
      "Processing Record 40 of Set 1 | bengkulu\n",
      "Processing Record 41 of Set 1 | port elizabeth\n",
      "Processing Record 42 of Set 1 | mangai\n",
      "Processing Record 43 of Set 1 | bambous virieux\n",
      "Processing Record 44 of Set 1 | cabo san lucas\n",
      "Processing Record 45 of Set 1 | atar\n",
      "Processing Record 46 of Set 1 | villa carlos paz\n",
      "Processing Record 47 of Set 1 | fountain\n",
      "Processing Record 48 of Set 1 | yokadouma\n",
      "Processing Record 49 of Set 1 | cap malheureux\n",
      "Processing Record 50 of Set 1 | raga\n",
      "Processing Record 0 of Set 2 | adrar\n",
      "Processing Record 1 of Set 2 | castro\n",
      "Processing Record 2 of Set 2 | puerto ayora\n",
      "Processing Record 3 of Set 2 | kapaa\n",
      "Processing Record 4 of Set 2 | nelson bay\n",
      "Processing Record 5 of Set 2 | jamestown\n",
      "Processing Record 6 of Set 2 | mecca\n",
      "Processing Record 7 of Set 2 | coahuayana\n",
      "Processing Record 8 of Set 2 | isla vista\n",
      "Processing Record 9 of Set 2 | zhanatas\n",
      "City not found. Skipping...\n",
      "Processing Record 10 of Set 2 | lolua\n",
      "City not found. Skipping...\n",
      "Processing Record 11 of Set 2 | zyryanka\n",
      "Processing Record 12 of Set 2 | neuquen\n",
      "Processing Record 13 of Set 2 | tuatapere\n",
      "Processing Record 14 of Set 2 | domoni\n",
      "Processing Record 15 of Set 2 | irbeyskoye\n",
      "Processing Record 16 of Set 2 | hermanus\n",
      "Processing Record 17 of Set 2 | bluff\n",
      "Processing Record 18 of Set 2 | faanui\n",
      "Processing Record 19 of Set 2 | middelburg\n",
      "Processing Record 20 of Set 2 | veere\n",
      "Processing Record 21 of Set 2 | salekhard\n",
      "Processing Record 22 of Set 2 | asfi\n",
      "Processing Record 23 of Set 2 | namibe\n",
      "Processing Record 24 of Set 2 | tiksi\n",
      "Processing Record 25 of Set 2 | cherskiy\n",
      "Processing Record 26 of Set 2 | hobart\n",
      "Processing Record 27 of Set 2 | severo-kurilsk\n",
      "Processing Record 28 of Set 2 | turgoyak\n",
      "Processing Record 29 of Set 2 | mys shmidta\n",
      "City not found. Skipping...\n",
      "Processing Record 30 of Set 2 | butaritari\n",
      "Processing Record 31 of Set 2 | kidal\n",
      "Processing Record 32 of Set 2 | ostrovnoy\n",
      "Processing Record 33 of Set 2 | nizhniy kuranakh\n",
      "Processing Record 34 of Set 2 | longyearbyen\n",
      "Processing Record 35 of Set 2 | busselton\n",
      "Processing Record 36 of Set 2 | kaitangata\n",
      "Processing Record 37 of Set 2 | kodiak\n",
      "Processing Record 38 of Set 2 | flinders\n",
      "Processing Record 39 of Set 2 | lakes entrance\n",
      "Processing Record 40 of Set 2 | husavik\n",
      "Processing Record 41 of Set 2 | chara\n",
      "Processing Record 42 of Set 2 | cape town\n",
      "Processing Record 43 of Set 2 | pechenizhyn\n",
      "Processing Record 44 of Set 2 | barentsburg\n",
      "City not found. Skipping...\n",
      "Processing Record 45 of Set 2 | bethel\n",
      "Processing Record 46 of Set 2 | saint-augustin\n",
      "Processing Record 47 of Set 2 | tursunzoda\n",
      "Processing Record 48 of Set 2 | katsina\n",
      "Processing Record 49 of Set 2 | marcona\n",
      "City not found. Skipping...\n",
      "Processing Record 0 of Set 3 | ketchikan\n",
      "Processing Record 1 of Set 3 | vardo\n",
      "Processing Record 2 of Set 3 | ribeira grande\n",
      "Processing Record 3 of Set 3 | avarua\n",
      "Processing Record 4 of Set 3 | haines junction\n",
      "Processing Record 5 of Set 3 | lagoa\n",
      "Processing Record 6 of Set 3 | tumannyy\n",
      "City not found. Skipping...\n",
      "Processing Record 7 of Set 3 | sao filipe\n",
      "Processing Record 8 of Set 3 | tuktoyaktuk\n",
      "Processing Record 9 of Set 3 | geraldton\n",
      "Processing Record 10 of Set 3 | hami\n",
      "Processing Record 11 of Set 3 | fukagawa\n",
      "Processing Record 12 of Set 3 | lorengau\n",
      "Processing Record 13 of Set 3 | cockburn town\n",
      "Processing Record 14 of Set 3 | murray bridge\n",
      "Processing Record 15 of Set 3 | talcahuano\n",
      "Processing Record 16 of Set 3 | rajapur\n",
      "Processing Record 17 of Set 3 | lasa\n",
      "Processing Record 18 of Set 3 | ormara\n",
      "Processing Record 19 of Set 3 | niquelandia\n",
      "Processing Record 20 of Set 3 | mayumba\n",
      "Processing Record 21 of Set 3 | oume\n",
      "Processing Record 22 of Set 3 | karpathos\n",
      "Processing Record 23 of Set 3 | shieli\n",
      "Processing Record 24 of Set 3 | dikson\n",
      "Processing Record 25 of Set 3 | mendi\n",
      "Processing Record 26 of Set 3 | grindavik\n",
      "Processing Record 27 of Set 3 | laguna\n",
      "Processing Record 28 of Set 3 | saint george\n",
      "Processing Record 29 of Set 3 | sao gabriel da cachoeira\n",
      "Processing Record 30 of Set 3 | kruisfontein\n",
      "Processing Record 31 of Set 3 | lamu\n",
      "Processing Record 32 of Set 3 | chuy\n",
      "Processing Record 33 of Set 3 | yining\n",
      "Processing Record 34 of Set 3 | carnarvon\n",
      "Processing Record 35 of Set 3 | hasaki\n",
      "Processing Record 36 of Set 3 | champerico\n",
      "Processing Record 37 of Set 3 | saint-pierre\n",
      "Processing Record 38 of Set 3 | tambopata\n",
      "Processing Record 39 of Set 3 | sena madureira\n",
      "Processing Record 40 of Set 3 | nouadhibou\n",
      "Processing Record 41 of Set 3 | orlik\n",
      "Processing Record 42 of Set 3 | arraial do cabo\n",
      "Processing Record 43 of Set 3 | vaini\n",
      "Processing Record 44 of Set 3 | nambucca heads\n",
      "Processing Record 45 of Set 3 | ambilobe\n",
      "Processing Record 46 of Set 3 | leningradskiy\n",
      "Processing Record 47 of Set 3 | hithadhoo\n",
      "Processing Record 48 of Set 3 | bani walid\n",
      "Processing Record 49 of Set 3 | ambulu\n",
      "Processing Record 0 of Set 4 | nenjiang\n",
      "Processing Record 1 of Set 4 | pushkar\n",
      "Processing Record 2 of Set 4 | port augusta\n",
      "Processing Record 3 of Set 4 | davila\n",
      "Processing Record 4 of Set 4 | sentyabrskiy\n",
      "City not found. Skipping...\n",
      "Processing Record 5 of Set 4 | bilibino\n",
      "Processing Record 6 of Set 4 | norman wells\n",
      "Processing Record 7 of Set 4 | saint-philippe\n",
      "Processing Record 8 of Set 4 | la ronge\n",
      "Processing Record 9 of Set 4 | arandis\n",
      "Processing Record 10 of Set 4 | villazon\n",
      "Processing Record 11 of Set 4 | port lincoln\n",
      "Processing Record 12 of Set 4 | hilo\n",
      "Processing Record 13 of Set 4 | kununurra\n",
      "Processing Record 14 of Set 4 | nome\n",
      "Processing Record 15 of Set 4 | houma\n",
      "Processing Record 16 of Set 4 | chulman\n",
      "Processing Record 17 of Set 4 | siguiri\n",
      "Processing Record 18 of Set 4 | guerrero negro\n",
      "Processing Record 19 of Set 4 | kavieng\n",
      "Processing Record 20 of Set 4 | biak\n",
      "Processing Record 21 of Set 4 | laranjeiras do sul\n",
      "Processing Record 22 of Set 4 | ilulissat\n",
      "Processing Record 23 of Set 4 | illoqqortoormiut\n",
      "City not found. Skipping...\n",
      "Processing Record 24 of Set 4 | talnakh\n",
      "Processing Record 25 of Set 4 | esperance\n",
      "Processing Record 26 of Set 4 | fortuna\n",
      "Processing Record 27 of Set 4 | male\n",
      "Processing Record 28 of Set 4 | bredasdorp\n",
      "Processing Record 29 of Set 4 | gamba\n",
      "Processing Record 30 of Set 4 | fougamou\n",
      "Processing Record 31 of Set 4 | gazanjyk\n",
      "Processing Record 32 of Set 4 | yulara\n",
      "Processing Record 33 of Set 4 | svetlogorsk\n",
      "Processing Record 34 of Set 4 | markova\n",
      "Processing Record 35 of Set 4 | warrington\n",
      "Processing Record 36 of Set 4 | lieksa\n",
      "Processing Record 37 of Set 4 | atuona\n",
      "Processing Record 38 of Set 4 | broome\n",
      "Processing Record 39 of Set 4 | tecpan\n"
     ]
    },
    {
     "name": "stdout",
     "output_type": "stream",
     "text": [
      "Processing Record 40 of Set 4 | pisco\n",
      "Processing Record 41 of Set 4 | havre\n",
      "Processing Record 42 of Set 4 | samana\n",
      "Processing Record 43 of Set 4 | asau\n",
      "Processing Record 44 of Set 4 | griffith\n",
      "Processing Record 45 of Set 4 | konya\n",
      "Processing Record 46 of Set 4 | upernavik\n",
      "Processing Record 47 of Set 4 | neunkirchen\n",
      "Processing Record 48 of Set 4 | henties bay\n",
      "Processing Record 49 of Set 4 | monrovia\n",
      "Processing Record 0 of Set 5 | hamilton\n",
      "Processing Record 1 of Set 5 | lebu\n",
      "Processing Record 2 of Set 5 | belushya guba\n",
      "City not found. Skipping...\n",
      "Processing Record 3 of Set 5 | gobabis\n",
      "Processing Record 4 of Set 5 | pangai\n",
      "Processing Record 5 of Set 5 | ordzhonikidze\n",
      "Processing Record 6 of Set 5 | campobello di mazara\n",
      "Processing Record 7 of Set 5 | san cristobal\n",
      "Processing Record 8 of Set 5 | gambela\n",
      "Processing Record 9 of Set 5 | nizhneyansk\n",
      "City not found. Skipping...\n",
      "Processing Record 10 of Set 5 | sarangani\n",
      "Processing Record 11 of Set 5 | urbano santos\n",
      "Processing Record 12 of Set 5 | yerbogachen\n",
      "Processing Record 13 of Set 5 | dawlatabad\n",
      "Processing Record 14 of Set 5 | palabuhanratu\n",
      "City not found. Skipping...\n",
      "Processing Record 15 of Set 5 | chern\n",
      "Processing Record 16 of Set 5 | lata\n",
      "Processing Record 17 of Set 5 | coari\n",
      "Processing Record 18 of Set 5 | aksarka\n",
      "Processing Record 19 of Set 5 | vila franca do campo\n",
      "Processing Record 20 of Set 5 | portland\n",
      "Processing Record 21 of Set 5 | gurskoye\n",
      "City not found. Skipping...\n",
      "Processing Record 22 of Set 5 | grand river south east\n",
      "City not found. Skipping...\n",
      "Processing Record 23 of Set 5 | nikolskoye\n",
      "Processing Record 24 of Set 5 | urkarakh\n",
      "Processing Record 25 of Set 5 | amudat\n",
      "Processing Record 26 of Set 5 | port-gentil\n",
      "Processing Record 27 of Set 5 | hualmay\n",
      "Processing Record 28 of Set 5 | colquechaca\n",
      "Processing Record 29 of Set 5 | opuwo\n",
      "Processing Record 30 of Set 5 | bilma\n",
      "Processing Record 31 of Set 5 | buraydah\n",
      "Processing Record 32 of Set 5 | bathsheba\n",
      "Processing Record 33 of Set 5 | alotau\n",
      "City not found. Skipping...\n",
      "Processing Record 34 of Set 5 | maragogi\n",
      "Processing Record 35 of Set 5 | thompson\n",
      "Processing Record 36 of Set 5 | college\n",
      "Processing Record 37 of Set 5 | fairbanks\n",
      "Processing Record 38 of Set 5 | fort nelson\n",
      "Processing Record 39 of Set 5 | los llanos de aridane\n",
      "Processing Record 40 of Set 5 | kendari\n",
      "Processing Record 41 of Set 5 | vuktyl\n",
      "Processing Record 42 of Set 5 | kloulklubed\n",
      "Processing Record 43 of Set 5 | avera\n",
      "Processing Record 44 of Set 5 | chokurdakh\n",
      "Processing Record 45 of Set 5 | kathmandu\n",
      "Processing Record 46 of Set 5 | jinchang\n",
      "Processing Record 47 of Set 5 | starkville\n",
      "Processing Record 48 of Set 5 | constitucion\n",
      "Processing Record 49 of Set 5 | narsaq\n",
      "Processing Record 0 of Set 6 | kazerun\n",
      "Processing Record 1 of Set 6 | araouane\n",
      "Processing Record 2 of Set 6 | zhuanghe\n",
      "Processing Record 3 of Set 6 | dao\n",
      "Processing Record 4 of Set 6 | comodoro rivadavia\n",
      "Processing Record 5 of Set 6 | georgetown\n",
      "Processing Record 6 of Set 6 | klaksvik\n",
      "Processing Record 7 of Set 6 | khatanga\n",
      "Processing Record 8 of Set 6 | rahuri\n",
      "Processing Record 9 of Set 6 | hanzhong\n",
      "Processing Record 10 of Set 6 | makaryev\n",
      "Processing Record 11 of Set 6 | haibowan\n",
      "City not found. Skipping...\n",
      "Processing Record 12 of Set 6 | batagay\n",
      "Processing Record 13 of Set 6 | ribnica\n",
      "Processing Record 14 of Set 6 | victoria\n",
      "Processing Record 15 of Set 6 | la paz\n",
      "Processing Record 16 of Set 6 | vangaindrano\n",
      "Processing Record 17 of Set 6 | dalvik\n",
      "Processing Record 18 of Set 6 | liverpool\n",
      "Processing Record 19 of Set 6 | nguiu\n",
      "City not found. Skipping...\n",
      "Processing Record 20 of Set 6 | mareeba\n",
      "Processing Record 21 of Set 6 | olafsvik\n",
      "Processing Record 22 of Set 6 | tiznit\n",
      "Processing Record 23 of Set 6 | kangaatsiaq\n",
      "Processing Record 24 of Set 6 | ponta do sol\n",
      "Processing Record 25 of Set 6 | imbituba\n",
      "Processing Record 26 of Set 6 | sohag\n",
      "Processing Record 27 of Set 6 | attawapiskat\n",
      "City not found. Skipping...\n",
      "Processing Record 28 of Set 6 | kushmurun\n",
      "Processing Record 29 of Set 6 | tahta\n",
      "Processing Record 30 of Set 6 | torbay\n",
      "Processing Record 31 of Set 6 | mahadday weyne\n",
      "City not found. Skipping...\n",
      "Processing Record 32 of Set 6 | chivay\n",
      "Processing Record 33 of Set 6 | hirara\n",
      "Processing Record 34 of Set 6 | chabahar\n",
      "Processing Record 35 of Set 6 | itoman\n",
      "Processing Record 36 of Set 6 | abonnema\n",
      "Processing Record 37 of Set 6 | kolchugino\n",
      "Processing Record 38 of Set 6 | hofn\n",
      "Processing Record 39 of Set 6 | magadi\n",
      "Processing Record 40 of Set 6 | nicoya\n",
      "Processing Record 41 of Set 6 | tarjan\n",
      "Processing Record 42 of Set 6 | egvekinot\n",
      "Processing Record 43 of Set 6 | oksfjord\n",
      "Processing Record 44 of Set 6 | beloha\n",
      "Processing Record 45 of Set 6 | riyadh\n",
      "Processing Record 46 of Set 6 | vigrestad\n",
      "Processing Record 47 of Set 6 | guarapari\n",
      "Processing Record 48 of Set 6 | harlingen\n",
      "Processing Record 49 of Set 6 | fort payne\n",
      "Processing Record 0 of Set 7 | kampong thum\n",
      "Processing Record 1 of Set 7 | jalu\n",
      "Processing Record 2 of Set 7 | sitka\n",
      "Processing Record 3 of Set 7 | saint anthony\n",
      "Processing Record 4 of Set 7 | lere\n",
      "Processing Record 5 of Set 7 | tautira\n",
      "Processing Record 6 of Set 7 | santa cruz del norte\n",
      "Processing Record 7 of Set 7 | alta floresta\n",
      "Processing Record 8 of Set 7 | slave lake\n",
      "Processing Record 9 of Set 7 | spokane\n",
      "Processing Record 10 of Set 7 | varkaus\n",
      "Processing Record 11 of Set 7 | taoudenni\n",
      "Processing Record 12 of Set 7 | svetlaya\n",
      "Processing Record 13 of Set 7 | surt\n",
      "Processing Record 14 of Set 7 | agua verde\n",
      "Processing Record 15 of Set 7 | mutsamudu\n",
      "City not found. Skipping...\n",
      "Processing Record 16 of Set 7 | pacific grove\n",
      "Processing Record 17 of Set 7 | mayor pablo lagerenza\n",
      "Processing Record 18 of Set 7 | poplar bluff\n",
      "Processing Record 19 of Set 7 | dhidhdhoo\n",
      "Processing Record 20 of Set 7 | balkanabat\n",
      "Processing Record 21 of Set 7 | ouro preto do oeste\n",
      "Processing Record 22 of Set 7 | okhotsk\n",
      "Processing Record 23 of Set 7 | sanming\n",
      "Processing Record 24 of Set 7 | dauphin\n",
      "Processing Record 25 of Set 7 | bairiki\n",
      "Processing Record 26 of Set 7 | meulaboh\n",
      "Processing Record 27 of Set 7 | sobolevo\n",
      "Processing Record 28 of Set 7 | kitimat\n",
      "Processing Record 29 of Set 7 | dandong\n",
      "Processing Record 30 of Set 7 | gimli\n",
      "Processing Record 31 of Set 7 | badian\n",
      "Processing Record 32 of Set 7 | hobyo\n",
      "Processing Record 33 of Set 7 | sirjan\n",
      "Processing Record 34 of Set 7 | geisenheim\n",
      "Processing Record 35 of Set 7 | funtua\n",
      "Processing Record 36 of Set 7 | vallenar\n",
      "Processing Record 37 of Set 7 | faya\n",
      "Processing Record 38 of Set 7 | finnsnes\n",
      "Processing Record 39 of Set 7 | yamada\n",
      "Processing Record 40 of Set 7 | stromness\n",
      "Processing Record 41 of Set 7 | cidreira\n",
      "Processing Record 42 of Set 7 | morondava\n",
      "Processing Record 43 of Set 7 | juneau\n",
      "Processing Record 44 of Set 7 | nishihara\n",
      "Processing Record 45 of Set 7 | oistins\n",
      "Processing Record 46 of Set 7 | sisimiut\n",
      "Processing Record 47 of Set 7 | beringovskiy\n",
      "Processing Record 48 of Set 7 | roebourne\n",
      "Processing Record 49 of Set 7 | raudeberg\n",
      "Processing Record 0 of Set 8 | orneta\n",
      "Processing Record 1 of Set 8 | tadine\n",
      "Processing Record 2 of Set 8 | namatanai\n",
      "Processing Record 3 of Set 8 | airai\n",
      "Processing Record 4 of Set 8 | phan thiet\n",
      "Processing Record 5 of Set 8 | port hardy\n",
      "Processing Record 6 of Set 8 | wawa\n",
      "Processing Record 7 of Set 8 | qingan\n",
      "City not found. Skipping...\n",
      "Processing Record 8 of Set 8 | dagana\n",
      "Processing Record 9 of Set 8 | bonavista\n",
      "Processing Record 10 of Set 8 | inta\n",
      "Processing Record 11 of Set 8 | caxito\n",
      "Processing Record 12 of Set 8 | port arthur\n",
      "Processing Record 13 of Set 8 | bela\n",
      "Processing Record 14 of Set 8 | tagusao\n",
      "Processing Record 15 of Set 8 | hauterive\n",
      "Processing Record 16 of Set 8 | kirgiz-miyaki\n",
      "Processing Record 17 of Set 8 | coihaique\n",
      "Processing Record 18 of Set 8 | lima\n",
      "Processing Record 19 of Set 8 | manzhouli\n",
      "Processing Record 20 of Set 8 | santa cruz\n",
      "Processing Record 21 of Set 8 | provideniya\n",
      "Processing Record 22 of Set 8 | benghazi\n",
      "Processing Record 23 of Set 8 | mama\n",
      "Processing Record 24 of Set 8 | praia\n",
      "Processing Record 25 of Set 8 | zhenhai\n",
      "Processing Record 26 of Set 8 | raton\n",
      "Processing Record 27 of Set 8 | xiuyan\n",
      "Processing Record 28 of Set 8 | sur\n",
      "Processing Record 29 of Set 8 | muzhi\n",
      "Processing Record 30 of Set 8 | bardiyah\n",
      "Processing Record 31 of Set 8 | haifa\n"
     ]
    },
    {
     "name": "stdout",
     "output_type": "stream",
     "text": [
      "Processing Record 32 of Set 8 | shimoda\n",
      "Processing Record 33 of Set 8 | sao felix do xingu\n",
      "Processing Record 34 of Set 8 | karamea\n",
      "City not found. Skipping...\n",
      "Processing Record 35 of Set 8 | satitoa\n",
      "City not found. Skipping...\n",
      "Processing Record 36 of Set 8 | aklavik\n",
      "Processing Record 37 of Set 8 | nabire\n",
      "Processing Record 38 of Set 8 | dickinson\n",
      "Processing Record 39 of Set 8 | tabou\n",
      "Processing Record 40 of Set 8 | ishinomaki\n",
      "Processing Record 41 of Set 8 | uyemskiy\n",
      "Processing Record 42 of Set 8 | saskylakh\n",
      "Processing Record 43 of Set 8 | banda aceh\n",
      "Processing Record 44 of Set 8 | xining\n",
      "Processing Record 45 of Set 8 | kazalinsk\n",
      "City not found. Skipping...\n",
      "Processing Record 46 of Set 8 | lagunas\n",
      "Processing Record 47 of Set 8 | bahir dar\n",
      "Processing Record 48 of Set 8 | quime\n",
      "Processing Record 49 of Set 8 | farafangana\n",
      "Processing Record 0 of Set 9 | khandyga\n",
      "Processing Record 1 of Set 9 | kapoeta\n",
      "Processing Record 2 of Set 9 | port alfred\n",
      "Processing Record 3 of Set 9 | kolno\n",
      "Processing Record 4 of Set 9 | warmbad\n",
      "Processing Record 5 of Set 9 | nador\n",
      "Processing Record 6 of Set 9 | tabiauea\n",
      "City not found. Skipping...\n",
      "Processing Record 7 of Set 9 | paungde\n",
      "Processing Record 8 of Set 9 | salalah\n",
      "Processing Record 9 of Set 9 | bambari\n",
      "Processing Record 10 of Set 9 | mayo\n",
      "Processing Record 11 of Set 9 | escanaba\n",
      "Processing Record 12 of Set 9 | yantal\n",
      "Processing Record 13 of Set 9 | san vicente\n",
      "Processing Record 14 of Set 9 | hay river\n",
      "Processing Record 15 of Set 9 | san quintin\n",
      "Processing Record 16 of Set 9 | isangel\n",
      "Processing Record 17 of Set 9 | nanakuli\n",
      "Processing Record 18 of Set 9 | tiarei\n",
      "Processing Record 19 of Set 9 | greytown\n",
      "Processing Record 20 of Set 9 | tasiilaq\n",
      "Processing Record 21 of Set 9 | zhangye\n",
      "Processing Record 22 of Set 9 | odweyne\n",
      "Processing Record 23 of Set 9 | kieta\n",
      "Processing Record 24 of Set 9 | port macquarie\n",
      "Processing Record 25 of Set 9 | dongning\n",
      "Processing Record 26 of Set 9 | tsihombe\n",
      "City not found. Skipping...\n",
      "Processing Record 27 of Set 9 | tessalit\n",
      "Processing Record 28 of Set 9 | kirakira\n",
      "Processing Record 29 of Set 9 | ballina\n",
      "Processing Record 30 of Set 9 | verkhoyansk\n",
      "Processing Record 31 of Set 9 | bayji\n",
      "Processing Record 32 of Set 9 | gao\n",
      "Processing Record 33 of Set 9 | mach\n",
      "Processing Record 34 of Set 9 | moratuwa\n",
      "Processing Record 35 of Set 9 | north bend\n",
      "Processing Record 36 of Set 9 | vestmanna\n",
      "Processing Record 37 of Set 9 | baturaja\n",
      "Processing Record 38 of Set 9 | pangnirtung\n",
      "Processing Record 39 of Set 9 | belmonte\n",
      "Processing Record 40 of Set 9 | yar-sale\n",
      "Processing Record 41 of Set 9 | malwan\n",
      "City not found. Skipping...\n",
      "Processing Record 42 of Set 9 | vaitupu\n",
      "City not found. Skipping...\n",
      "Processing Record 43 of Set 9 | petropavlovka\n",
      "Processing Record 44 of Set 9 | alice springs\n",
      "Processing Record 45 of Set 9 | ambon\n",
      "Processing Record 46 of Set 9 | sain alto\n",
      "Processing Record 47 of Set 9 | axim\n",
      "Processing Record 48 of Set 9 | te anau\n",
      "Processing Record 49 of Set 9 | sao joao da barra\n",
      "Processing Record 0 of Set 10 | vitorino freire\n",
      "Processing Record 1 of Set 10 | abu dhabi\n",
      "Processing Record 2 of Set 10 | civitanova marche\n",
      "Processing Record 3 of Set 10 | taltal\n",
      "Processing Record 4 of Set 10 | sebinkarahisar\n",
      "Processing Record 5 of Set 10 | poum\n",
      "Processing Record 6 of Set 10 | sanmenxia\n",
      "Processing Record 7 of Set 10 | boysun\n",
      "Processing Record 8 of Set 10 | solnechnyy\n",
      "Processing Record 9 of Set 10 | inirida\n",
      "Processing Record 10 of Set 10 | vostok\n",
      "Processing Record 11 of Set 10 | manta\n",
      "Processing Record 12 of Set 10 | samusu\n",
      "City not found. Skipping...\n",
      "Processing Record 13 of Set 10 | rudbar\n",
      "Processing Record 14 of Set 10 | greenfield\n",
      "Processing Record 15 of Set 10 | tondano\n",
      "Processing Record 16 of Set 10 | iqaluit\n",
      "Processing Record 17 of Set 10 | toliary\n",
      "City not found. Skipping...\n",
      "Processing Record 18 of Set 10 | mugur-aksy\n",
      "Processing Record 19 of Set 10 | iquitos\n",
      "Processing Record 20 of Set 10 | tirano\n",
      "Processing Record 21 of Set 10 | vasilyevo\n",
      "Processing Record 22 of Set 10 | mount isa\n",
      "Processing Record 23 of Set 10 | nusaybin\n",
      "Processing Record 24 of Set 10 | elk river\n",
      "Processing Record 25 of Set 10 | laem sing\n",
      "Processing Record 26 of Set 10 | westport\n",
      "Processing Record 27 of Set 10 | shakiso\n",
      "Processing Record 28 of Set 10 | matara\n",
      "Processing Record 29 of Set 10 | half moon bay\n",
      "Processing Record 30 of Set 10 | cabra\n",
      "Processing Record 31 of Set 10 | los alamos\n",
      "Processing Record 32 of Set 10 | dujuma\n",
      "City not found. Skipping...\n",
      "Processing Record 33 of Set 10 | quballat\n",
      "Processing Record 34 of Set 10 | alofi\n",
      "Processing Record 35 of Set 10 | agadez\n",
      "Processing Record 36 of Set 10 | merauke\n",
      "Processing Record 37 of Set 10 | erzin\n",
      "Processing Record 38 of Set 10 | hovd\n",
      "Processing Record 39 of Set 10 | bambanglipuro\n",
      "Processing Record 40 of Set 10 | tanout\n",
      "Processing Record 41 of Set 10 | prince rupert\n",
      "Processing Record 42 of Set 10 | walvis bay\n",
      "Processing Record 43 of Set 10 | roald\n",
      "Processing Record 44 of Set 10 | port hedland\n",
      "Processing Record 45 of Set 10 | noyabrsk\n",
      "Processing Record 46 of Set 10 | badiraguato\n",
      "Processing Record 47 of Set 10 | sungairaya\n",
      "Processing Record 48 of Set 10 | magadan\n",
      "Processing Record 49 of Set 10 | chapais\n",
      "Processing Record 0 of Set 11 | umzimvubu\n",
      "City not found. Skipping...\n",
      "Processing Record 1 of Set 11 | clyde river\n",
      "Processing Record 2 of Set 11 | victor harbor\n",
      "Processing Record 3 of Set 11 | sistranda\n",
      "Processing Record 4 of Set 11 | san patricio\n",
      "Processing Record 5 of Set 11 | lethem\n",
      "Processing Record 6 of Set 11 | ancud\n",
      "Processing Record 7 of Set 11 | tukrah\n",
      "Processing Record 8 of Set 11 | belaya gora\n",
      "Processing Record 9 of Set 11 | chuzhou\n",
      "Processing Record 10 of Set 11 | tasbuget\n",
      "City not found. Skipping...\n",
      "Processing Record 11 of Set 11 | birao\n",
      "Processing Record 12 of Set 11 | pozo colorado\n",
      "Processing Record 13 of Set 11 | broken hill\n",
      "Processing Record 14 of Set 11 | fevralsk\n",
      "City not found. Skipping...\n",
      "Processing Record 15 of Set 11 | louisbourg\n",
      "City not found. Skipping...\n",
      "Processing Record 16 of Set 11 | ibimirim\n",
      "Processing Record 17 of Set 11 | auka\n",
      "Processing Record 18 of Set 11 | phonhong\n",
      "Processing Record 19 of Set 11 | san carlos de bariloche\n",
      "Processing Record 20 of Set 11 | talaya\n",
      "Processing Record 21 of Set 11 | paka\n",
      "Processing Record 22 of Set 11 | lavrentiya\n",
      "Processing Record 23 of Set 11 | urengoy\n",
      "Processing Record 24 of Set 11 | bereda\n",
      "Processing Record 25 of Set 11 | wanning\n",
      "Processing Record 26 of Set 11 | galle\n",
      "Processing Record 27 of Set 11 | benjamin aceval\n",
      "Processing Record 28 of Set 11 | vysotsk\n",
      "Processing Record 29 of Set 11 | porto velho\n",
      "Processing Record 30 of Set 11 | bur gabo\n",
      "City not found. Skipping...\n",
      "Processing Record 31 of Set 11 | tsabong\n",
      "Processing Record 32 of Set 11 | pemba\n",
      "Processing Record 33 of Set 11 | upata\n",
      "Processing Record 34 of Set 11 | ovalle\n",
      "Processing Record 35 of Set 11 | buchanan\n",
      "Processing Record 36 of Set 11 | changji\n",
      "Processing Record 37 of Set 11 | nouakchott\n",
      "Processing Record 38 of Set 11 | udachnyy\n",
      "Processing Record 39 of Set 11 | posse\n",
      "Processing Record 40 of Set 11 | gorno-chuyskiy\n",
      "City not found. Skipping...\n",
      "Processing Record 41 of Set 11 | petropavlovsk-kamchatskiy\n",
      "Processing Record 42 of Set 11 | chinhoyi\n",
      "Processing Record 43 of Set 11 | quang ngai\n",
      "Processing Record 44 of Set 11 | eureka\n",
      "Processing Record 45 of Set 11 | derzhavinsk\n",
      "Processing Record 46 of Set 11 | inhambane\n",
      "Processing Record 47 of Set 11 | angoram\n",
      "Processing Record 48 of Set 11 | kargasok\n",
      "Processing Record 49 of Set 11 | lagoa vermelha\n",
      "Processing Record 0 of Set 12 | thinadhoo\n",
      "Processing Record 1 of Set 12 | corn island\n",
      "Processing Record 2 of Set 12 | usinsk\n",
      "Processing Record 3 of Set 12 | along\n",
      "Processing Record 4 of Set 12 | carutapera\n",
      "Processing Record 5 of Set 12 | ust-kuyga\n",
      "Processing Record 6 of Set 12 | deputatskiy\n",
      "Processing Record 7 of Set 12 | andenes\n",
      "Processing Record 8 of Set 12 | buckeye\n",
      "Processing Record 9 of Set 12 | mpanda\n",
      "Processing Record 10 of Set 12 | arman\n",
      "Processing Record 11 of Set 12 | rundu\n",
      "Processing Record 12 of Set 12 | los lunas\n",
      "Processing Record 13 of Set 12 | sampit\n",
      "Processing Record 14 of Set 12 | leninskoye\n",
      "Processing Record 15 of Set 12 | mildura\n",
      "Processing Record 16 of Set 12 | sicuani\n",
      "Processing Record 17 of Set 12 | palm city\n"
     ]
    },
    {
     "name": "stdout",
     "output_type": "stream",
     "text": [
      "Processing Record 18 of Set 12 | nadvoitsy\n",
      "Processing Record 19 of Set 12 | lerwick\n",
      "Processing Record 20 of Set 12 | ibia\n",
      "Processing Record 21 of Set 12 | trelew\n",
      "Processing Record 22 of Set 12 | neiafu\n",
      "Processing Record 23 of Set 12 | jabinyanah\n",
      "Processing Record 24 of Set 12 | seondha\n",
      "Processing Record 25 of Set 12 | itarema\n",
      "Processing Record 26 of Set 12 | bom jesus\n",
      "Processing Record 27 of Set 12 | payo\n",
      "Processing Record 28 of Set 12 | sumbe\n",
      "Processing Record 29 of Set 12 | jacareacanga\n",
      "Processing Record 30 of Set 12 | koulikoro\n",
      "Processing Record 31 of Set 12 | kilindoni\n",
      "Processing Record 32 of Set 12 | dicabisagan\n",
      "Processing Record 33 of Set 12 | berck\n",
      "Processing Record 34 of Set 12 | hihifo\n",
      "City not found. Skipping...\n",
      "Processing Record 35 of Set 12 | terra rica\n",
      "Processing Record 36 of Set 12 | auki\n",
      "Processing Record 37 of Set 12 | yingcheng\n",
      "Processing Record 38 of Set 12 | saleaula\n",
      "City not found. Skipping...\n",
      "Processing Record 39 of Set 12 | el alto\n",
      "Processing Record 40 of Set 12 | saldanha\n",
      "Processing Record 41 of Set 12 | severnyy\n",
      "Processing Record 42 of Set 12 | hare bay\n",
      "Processing Record 43 of Set 12 | buala\n",
      "Processing Record 44 of Set 12 | watertown\n",
      "Processing Record 45 of Set 12 | zapolyarnyy\n",
      "Processing Record 46 of Set 12 | chipoka\n",
      "Processing Record 47 of Set 12 | lunenburg\n",
      "Processing Record 48 of Set 12 | abashiri\n",
      "Processing Record 49 of Set 12 | mount gambier\n",
      "Processing Record 0 of Set 13 | san andres\n",
      "Processing Record 1 of Set 13 | jiexiu\n",
      "Processing Record 2 of Set 13 | hilton head island\n",
      "Processing Record 3 of Set 13 | mehamn\n",
      "Processing Record 4 of Set 13 | christchurch\n",
      "Processing Record 5 of Set 13 | tezu\n",
      "Processing Record 6 of Set 13 | turukhansk\n",
      "Processing Record 7 of Set 13 | paso de los toros\n",
      "Processing Record 8 of Set 13 | waw\n",
      "Processing Record 9 of Set 13 | bairnsdale\n",
      "Processing Record 10 of Set 13 | bitlis\n",
      "Processing Record 11 of Set 13 | crab hill\n",
      "City not found. Skipping...\n",
      "Processing Record 12 of Set 13 | regina\n",
      "Processing Record 13 of Set 13 | belfast\n",
      "Processing Record 14 of Set 13 | kahului\n",
      "Processing Record 15 of Set 13 | honningsvag\n",
      "Processing Record 16 of Set 13 | gladstone\n",
      "Processing Record 17 of Set 13 | zeya\n",
      "Processing Record 18 of Set 13 | zachagansk\n",
      "City not found. Skipping...\n",
      "Processing Record 19 of Set 13 | meliti\n",
      "Processing Record 20 of Set 13 | yomitan\n",
      "City not found. Skipping...\n",
      "Processing Record 21 of Set 13 | zhezkazgan\n",
      "Processing Record 22 of Set 13 | pascagoula\n",
      "Processing Record 23 of Set 13 | santa cruz de la palma\n",
      "Processing Record 24 of Set 13 | ous\n",
      "Processing Record 25 of Set 13 | ojinaga\n",
      "Processing Record 26 of Set 13 | hambantota\n",
      "Processing Record 27 of Set 13 | kavaratti\n",
      "Processing Record 28 of Set 13 | pitangui\n",
      "Processing Record 29 of Set 13 | tazovskiy\n",
      "Processing Record 30 of Set 13 | vengerovo\n",
      "Processing Record 31 of Set 13 | tabuk\n",
      "Processing Record 32 of Set 13 | narva-joesuu\n",
      "-----------------------------\n",
      "Data Retrieval Complete      \n",
      "-----------------------------\n"
     ]
    }
   ],
   "source": [
    "# Set the API base URL\n",
    "url =\"https://api.openweathermap.org/data/2.5/weather?\"\n",
    "units = \"metric\"\n",
    "# Define an empty list to fetch the weather data for each city\n",
    "city_data = []\n",
    "\n",
    "# Print to logger\n",
    "print(\"Beginning Data Retrieval     \")\n",
    "print(\"-----------------------------\")\n",
    "\n",
    "# Create counters\n",
    "record_count = 1\n",
    "set_count = 1\n",
    "\n",
    "# Loop through all the cities in our list to fetch weather data\n",
    "for i, city in enumerate(cities):\n",
    "        \n",
    "    # Group cities in sets of 50 for logging purposes\n",
    "    if (i % 50 == 0 and i >= 50):\n",
    "        set_count += 1\n",
    "        record_count = 0\n",
    "\n",
    "    # Create endpoint URL with each city\n",
    "    city_url = f\"{url}q={city}&appid={weather_api_key}&units={units}\"\n",
    "    \n",
    "    # Log the url, record, and set numbers\n",
    "    print(\"Processing Record %s of Set %s | %s\" % (record_count, set_count, city))\n",
    "\n",
    "    # Add 1 to the record count\n",
    "    record_count += 1\n",
    "\n",
    "    # Run an API request for each of the cities\n",
    "    try:\n",
    "        # Parse the JSON and retrieve data\n",
    "        city_weather =requests.get(city_url).json()\n",
    "        \n",
    "        # Parse out latitude, longitude, max temp, humidity, cloudiness, wind speed, country, and date\n",
    "        city_lat =city_weather[\"coord\"][\"lat\"]\n",
    "        city_lng = city_weather[\"coord\"][\"lon\"]\n",
    "        city_max_temp = city_weather[\"main\"][\"temp_max\"]\n",
    "        city_humidity =  city_weather[\"main\"][\"humidity\"]\n",
    "        city_clouds = city_weather[\"clouds\"][\"all\"]\n",
    "        city_wind = city_weather[\"wind\"][\"speed\"]\n",
    "        city_country = city_weather[\"sys\"][\"country\"]\n",
    "        city_date = city_weather[\"dt\"]\n",
    "\n",
    "        # Append the City information into city_data list\n",
    "        city_data.append({\"City\": city, \n",
    "                          \"Lat\": city_lat, \n",
    "                          \"Lng\": city_lng, \n",
    "                          \"Max Temp\": city_max_temp,\n",
    "                          \"Humidity\": city_humidity,\n",
    "                          \"Cloudiness\": city_clouds,\n",
    "                          \"Wind Speed\": city_wind,\n",
    "                          \"Country\": city_country,\n",
    "                          \"Date\": city_date})\n",
    "\n",
    "    # If an error is experienced, skip the city\n",
    "    except:\n",
    "        print(\"City not found. Skipping...\")\n",
    "        pass\n",
    "              \n",
    "# Indicate that Data Loading is complete \n",
    "print(\"-----------------------------\")\n",
    "print(\"Data Retrieval Complete      \")\n",
    "print(\"-----------------------------\")\n",
    "\n"
   ]
  },
  {
   "cell_type": "code",
   "execution_count": 6,
   "metadata": {},
   "outputs": [
    {
     "data": {
      "text/plain": [
       "City          589\n",
       "Lat           589\n",
       "Lng           589\n",
       "Max Temp      589\n",
       "Humidity      589\n",
       "Cloudiness    589\n",
       "Wind Speed    589\n",
       "Country       589\n",
       "Date          589\n",
       "dtype: int64"
      ]
     },
     "execution_count": 6,
     "metadata": {},
     "output_type": "execute_result"
    }
   ],
   "source": [
    "# Convert the cities weather data into a Pandas DataFrame\n",
    "city_data_df = pd.DataFrame(city_data)\n",
    "\n",
    "# Show Record Count\n",
    "city_data_df.count()"
   ]
  },
  {
   "cell_type": "code",
   "execution_count": 7,
   "metadata": {},
   "outputs": [
    {
     "data": {
      "text/html": [
       "<div>\n",
       "<style scoped>\n",
       "    .dataframe tbody tr th:only-of-type {\n",
       "        vertical-align: middle;\n",
       "    }\n",
       "\n",
       "    .dataframe tbody tr th {\n",
       "        vertical-align: top;\n",
       "    }\n",
       "\n",
       "    .dataframe thead th {\n",
       "        text-align: right;\n",
       "    }\n",
       "</style>\n",
       "<table border=\"1\" class=\"dataframe\">\n",
       "  <thead>\n",
       "    <tr style=\"text-align: right;\">\n",
       "      <th></th>\n",
       "      <th>City</th>\n",
       "      <th>Lat</th>\n",
       "      <th>Lng</th>\n",
       "      <th>Max Temp</th>\n",
       "      <th>Humidity</th>\n",
       "      <th>Cloudiness</th>\n",
       "      <th>Wind Speed</th>\n",
       "      <th>Country</th>\n",
       "      <th>Date</th>\n",
       "    </tr>\n",
       "  </thead>\n",
       "  <tbody>\n",
       "    <tr>\n",
       "      <th>0</th>\n",
       "      <td>east london</td>\n",
       "      <td>-33.0153</td>\n",
       "      <td>27.9116</td>\n",
       "      <td>17.73</td>\n",
       "      <td>81</td>\n",
       "      <td>100</td>\n",
       "      <td>2.17</td>\n",
       "      <td>ZA</td>\n",
       "      <td>1672971628</td>\n",
       "    </tr>\n",
       "    <tr>\n",
       "      <th>1</th>\n",
       "      <td>albany</td>\n",
       "      <td>42.6001</td>\n",
       "      <td>-73.9662</td>\n",
       "      <td>6.69</td>\n",
       "      <td>90</td>\n",
       "      <td>97</td>\n",
       "      <td>0.89</td>\n",
       "      <td>US</td>\n",
       "      <td>1672971620</td>\n",
       "    </tr>\n",
       "    <tr>\n",
       "      <th>2</th>\n",
       "      <td>santa barbara</td>\n",
       "      <td>34.7333</td>\n",
       "      <td>-120.0343</td>\n",
       "      <td>9.90</td>\n",
       "      <td>91</td>\n",
       "      <td>100</td>\n",
       "      <td>2.06</td>\n",
       "      <td>US</td>\n",
       "      <td>1672971565</td>\n",
       "    </tr>\n",
       "    <tr>\n",
       "      <th>3</th>\n",
       "      <td>cayenne</td>\n",
       "      <td>4.9333</td>\n",
       "      <td>-52.3333</td>\n",
       "      <td>23.02</td>\n",
       "      <td>100</td>\n",
       "      <td>75</td>\n",
       "      <td>1.03</td>\n",
       "      <td>GF</td>\n",
       "      <td>1672971353</td>\n",
       "    </tr>\n",
       "    <tr>\n",
       "      <th>4</th>\n",
       "      <td>new norfolk</td>\n",
       "      <td>-42.7826</td>\n",
       "      <td>147.0587</td>\n",
       "      <td>20.40</td>\n",
       "      <td>36</td>\n",
       "      <td>0</td>\n",
       "      <td>2.16</td>\n",
       "      <td>AU</td>\n",
       "      <td>1672971633</td>\n",
       "    </tr>\n",
       "  </tbody>\n",
       "</table>\n",
       "</div>"
      ],
      "text/plain": [
       "            City      Lat       Lng  Max Temp  Humidity  Cloudiness  \\\n",
       "0    east london -33.0153   27.9116     17.73        81         100   \n",
       "1         albany  42.6001  -73.9662      6.69        90          97   \n",
       "2  santa barbara  34.7333 -120.0343      9.90        91         100   \n",
       "3        cayenne   4.9333  -52.3333     23.02       100          75   \n",
       "4    new norfolk -42.7826  147.0587     20.40        36           0   \n",
       "\n",
       "   Wind Speed Country        Date  \n",
       "0        2.17      ZA  1672971628  \n",
       "1        0.89      US  1672971620  \n",
       "2        2.06      US  1672971565  \n",
       "3        1.03      GF  1672971353  \n",
       "4        2.16      AU  1672971633  "
      ]
     },
     "execution_count": 7,
     "metadata": {},
     "output_type": "execute_result"
    }
   ],
   "source": [
    "# Display sample data\n",
    "city_data_df.head()"
   ]
  },
  {
   "cell_type": "code",
   "execution_count": 8,
   "metadata": {},
   "outputs": [],
   "source": [
    "# Export the City_Data into a csv\n",
    "city_data_df.to_csv(\"../output_data/cities.csv\", index_label=\"City_ID\")"
   ]
  },
  {
   "cell_type": "code",
   "execution_count": 9,
   "metadata": {},
   "outputs": [
    {
     "data": {
      "text/html": [
       "<div>\n",
       "<style scoped>\n",
       "    .dataframe tbody tr th:only-of-type {\n",
       "        vertical-align: middle;\n",
       "    }\n",
       "\n",
       "    .dataframe tbody tr th {\n",
       "        vertical-align: top;\n",
       "    }\n",
       "\n",
       "    .dataframe thead th {\n",
       "        text-align: right;\n",
       "    }\n",
       "</style>\n",
       "<table border=\"1\" class=\"dataframe\">\n",
       "  <thead>\n",
       "    <tr style=\"text-align: right;\">\n",
       "      <th></th>\n",
       "      <th>City</th>\n",
       "      <th>Lat</th>\n",
       "      <th>Lng</th>\n",
       "      <th>Max Temp</th>\n",
       "      <th>Humidity</th>\n",
       "      <th>Cloudiness</th>\n",
       "      <th>Wind Speed</th>\n",
       "      <th>Country</th>\n",
       "      <th>Date</th>\n",
       "    </tr>\n",
       "    <tr>\n",
       "      <th>City_ID</th>\n",
       "      <th></th>\n",
       "      <th></th>\n",
       "      <th></th>\n",
       "      <th></th>\n",
       "      <th></th>\n",
       "      <th></th>\n",
       "      <th></th>\n",
       "      <th></th>\n",
       "      <th></th>\n",
       "    </tr>\n",
       "  </thead>\n",
       "  <tbody>\n",
       "    <tr>\n",
       "      <th>0</th>\n",
       "      <td>east london</td>\n",
       "      <td>-33.0153</td>\n",
       "      <td>27.9116</td>\n",
       "      <td>17.73</td>\n",
       "      <td>81</td>\n",
       "      <td>100</td>\n",
       "      <td>2.17</td>\n",
       "      <td>ZA</td>\n",
       "      <td>1672971628</td>\n",
       "    </tr>\n",
       "    <tr>\n",
       "      <th>1</th>\n",
       "      <td>albany</td>\n",
       "      <td>42.6001</td>\n",
       "      <td>-73.9662</td>\n",
       "      <td>6.69</td>\n",
       "      <td>90</td>\n",
       "      <td>97</td>\n",
       "      <td>0.89</td>\n",
       "      <td>US</td>\n",
       "      <td>1672971620</td>\n",
       "    </tr>\n",
       "    <tr>\n",
       "      <th>2</th>\n",
       "      <td>santa barbara</td>\n",
       "      <td>34.7333</td>\n",
       "      <td>-120.0343</td>\n",
       "      <td>9.90</td>\n",
       "      <td>91</td>\n",
       "      <td>100</td>\n",
       "      <td>2.06</td>\n",
       "      <td>US</td>\n",
       "      <td>1672971565</td>\n",
       "    </tr>\n",
       "    <tr>\n",
       "      <th>3</th>\n",
       "      <td>cayenne</td>\n",
       "      <td>4.9333</td>\n",
       "      <td>-52.3333</td>\n",
       "      <td>23.02</td>\n",
       "      <td>100</td>\n",
       "      <td>75</td>\n",
       "      <td>1.03</td>\n",
       "      <td>GF</td>\n",
       "      <td>1672971353</td>\n",
       "    </tr>\n",
       "    <tr>\n",
       "      <th>4</th>\n",
       "      <td>new norfolk</td>\n",
       "      <td>-42.7826</td>\n",
       "      <td>147.0587</td>\n",
       "      <td>20.40</td>\n",
       "      <td>36</td>\n",
       "      <td>0</td>\n",
       "      <td>2.16</td>\n",
       "      <td>AU</td>\n",
       "      <td>1672971633</td>\n",
       "    </tr>\n",
       "  </tbody>\n",
       "</table>\n",
       "</div>"
      ],
      "text/plain": [
       "                  City      Lat       Lng  Max Temp  Humidity  Cloudiness  \\\n",
       "City_ID                                                                     \n",
       "0          east london -33.0153   27.9116     17.73        81         100   \n",
       "1               albany  42.6001  -73.9662      6.69        90          97   \n",
       "2        santa barbara  34.7333 -120.0343      9.90        91         100   \n",
       "3              cayenne   4.9333  -52.3333     23.02       100          75   \n",
       "4          new norfolk -42.7826  147.0587     20.40        36           0   \n",
       "\n",
       "         Wind Speed Country        Date  \n",
       "City_ID                                  \n",
       "0              2.17      ZA  1672971628  \n",
       "1              0.89      US  1672971620  \n",
       "2              2.06      US  1672971565  \n",
       "3              1.03      GF  1672971353  \n",
       "4              2.16      AU  1672971633  "
      ]
     },
     "execution_count": 9,
     "metadata": {},
     "output_type": "execute_result"
    }
   ],
   "source": [
    "# Read saved data\n",
    "city_data_df = pd.read_csv(\"../output_data/cities.csv\", index_col=\"City_ID\")\n",
    "\n",
    "# Display sample data\n",
    "city_data_df.head()"
   ]
  },
  {
   "cell_type": "markdown",
   "metadata": {},
   "source": [
    "### Create the Scatter Plots Requested\n",
    "\n",
    "#### Latitude Vs. Temperature"
   ]
  },
  {
   "cell_type": "code",
   "execution_count": 24,
   "metadata": {
    "tags": []
   },
   "outputs": [
    {
     "data": {
      "image/png": "[encoded data removed]",
      "text/plain": [
       "<Figure size 432x288 with 1 Axes>"
      ]
     },
     "metadata": {
      "needs_background": "light"
     },
     "output_type": "display_data"
    }
   ],
   "source": [
    "# Today date\n",
    "today = time.strftime(\"%y/%m/%d\")\n",
    "# Build scatter plot for latitude vs. temperature\n",
    "plt.scatter(city_data_df[\"Lat\"],city_data_df[\"Max Temp\"] , marker=\"o\" , facecolor=\"b\" , edgecolor=\"k\")\n",
    "\n",
    "# Incorporate the other graph properties\n",
    "plt.xlabel(\"Latitude\")\n",
    "plt.ylabel(\"Max Temperature C\")\n",
    "plt.title(f\"City Latitude vs Max Temperature ({today})\")\n",
    "plt.grid()\n",
    "plt.style.use('fast')\n",
    "# Save the figure\n",
    "plt.savefig(\"../output_data/Fig1.png\" , dpi=80)\n",
    "\n",
    "# Show plot\n",
    "plt.show()"
   ]
  },
  {
   "cell_type": "markdown",
   "metadata": {},
   "source": [
    "#### Latitude Vs. Humidity"
   ]
  },
  {
   "cell_type": "code",
   "execution_count": 25,
   "metadata": {},
   "outputs": [
    {
     "data": {
      "image/png": "[encoded data removed]",
      "text/plain": [
       "<Figure size 432x288 with 1 Axes>"
      ]
     },
     "metadata": {
      "needs_background": "light"
     },
     "output_type": "display_data"
    }
   ],
   "source": [
    "# Today date\n",
    "today = time.strftime(\"%y/%m/%d\")\n",
    "# Build the scatter plots for latitude vs. humidity\n",
    "plt.scatter(city_data_df[\"Lat\"],city_data_df[\"Humidity\"] , marker=\"o\" , facecolor=\"b\" , edgecolor=\"k\")\n",
    "\n",
    "# Incorporate the other graph properties\n",
    "plt.xlabel(\"Latitude\")\n",
    "plt.ylabel(\"Humidity (%)\")\n",
    "plt.title(f\"City Latitude vs. Humidity ({today})\")\n",
    "plt.grid()\n",
    "\n",
    "# Save the figure\n",
    "plt.savefig(\"../output_data/Fig2.png\")\n",
    "\n",
    "# Show plot\n",
    "plt.show()"
   ]
  },
  {
   "cell_type": "markdown",
   "metadata": {},
   "source": [
    "#### Latitude Vs. Cloudiness"
   ]
  },
  {
   "cell_type": "code",
   "execution_count": 26,
   "metadata": {},
   "outputs": [
    {
     "data": {
      "image/png": "[encoded data removed]",
      "text/plain": [
       "<Figure size 432x288 with 1 Axes>"
      ]
     },
     "metadata": {
      "needs_background": "light"
     },
     "output_type": "display_data"
    }
   ],
   "source": [
    "# Today date\n",
    "today = time.strftime(\"%y/%m/%d\")\n",
    "# Build the scatter plots for latitude vs. cloudiness\n",
    "plt.scatter(city_data_df[\"Lat\"],city_data_df[\"Cloudiness\"] , marker=\"o\" , facecolor=\"b\" , edgecolor=\"k\")\n",
    "\n",
    "# Incorporate the other graph properties\n",
    "plt.xlabel(\"Latitude\")\n",
    "plt.ylabel(\"Cloudiness (%)\")\n",
    "plt.title(f\"City Latitude vs. Cloudiness ({today})\")\n",
    "plt.grid()\n",
    "\n",
    "# Save the figure\n",
    "plt.savefig(\"../output_data/Fig3.png\")\n",
    "\n",
    "# Show plot\n",
    "plt.show()"
   ]
  },
  {
   "cell_type": "markdown",
   "metadata": {},
   "source": [
    "#### Latitude vs. Wind Speed Plot"
   ]
  },
  {
   "cell_type": "code",
   "execution_count": 27,
   "metadata": {},
   "outputs": [
    {
     "data": {
      "image/png": "[encoded data removed]",
      "text/plain": [
       "<Figure size 432x288 with 1 Axes>"
      ]
     },
     "metadata": {
      "needs_background": "light"
     },
     "output_type": "display_data"
    }
   ],
   "source": [
    "# Today date\n",
    "today = time.strftime(\"%y/%m/%d\")\n",
    "# Build the scatter plots for latitude vs. wind speed\n",
    "plt.scatter(city_data_df[\"Lat\"],city_data_df[\"Wind Speed\"] , marker=\"o\" , facecolor=\"b\" , edgecolor=\"k\")\n",
    "\n",
    "# Incorporate the other graph properties\n",
    "plt.xlabel(\"Latitude\")\n",
    "plt.ylabel(\"Wind Speed (m/s)\")\n",
    "plt.title(f\"City Latitude vs. Wind Speed ({today})\")\n",
    "plt.grid()\n",
    "\n",
    "# Save the figure\n",
    "plt.savefig(\"../output_data/Fig4.png\")\n",
    "\n",
    "# Show plot\n",
    "plt.show()"
   ]
  },
  {
   "cell_type": "markdown",
   "metadata": {},
   "source": [
    "---\n",
    "\n",
    "## Requirement 2: Compute Linear Regression for Each Relationship\n"
   ]
  },
  {
   "cell_type": "code",
   "execution_count": 72,
   "metadata": {},
   "outputs": [],
   "source": [
    "# Define a function to create Linear Regression plots\n",
    "def regression():\n",
    "    (slope, intercept, rvalue, pvalue, stderr)=linregress(x_values, y_values)\n",
    "    regress_values=x_values * slope + intercept\n",
    "    plt.scatter(x_values,y_values)\n",
    "    plt.plot(x_values, regress_values,\"r-\")\n",
    "    line_eq=\"y=\" + str(round(slope, 2)) + \"x+\" + str(round(intercept, 2))\n",
    "    plt.annotate(line_eq,(0,12),fontsize=15,color=\"red\")\n",
    "    print(f'The r-value is : {rvalue}')\n",
    "    \n",
    "# Define a function to measure correlation\n",
    "def correlation():\n",
    "    corr=st.pearsonr(x_values, y_values)\n",
    "    print(f'the correlation between both factor is : {round(corr[0],2)}')\n",
    "    "
   ]
  },
  {
   "cell_type": "code",
   "execution_count": 73,
   "metadata": {},
   "outputs": [
    {
     "data": {
      "text/html": [
       "<div>\n",
       "<style scoped>\n",
       "    .dataframe tbody tr th:only-of-type {\n",
       "        vertical-align: middle;\n",
       "    }\n",
       "\n",
       "    .dataframe tbody tr th {\n",
       "        vertical-align: top;\n",
       "    }\n",
       "\n",
       "    .dataframe thead th {\n",
       "        text-align: right;\n",
       "    }\n",
       "</style>\n",
       "<table border=\"1\" class=\"dataframe\">\n",
       "  <thead>\n",
       "    <tr style=\"text-align: right;\">\n",
       "      <th></th>\n",
       "      <th>City</th>\n",
       "      <th>Lat</th>\n",
       "      <th>Lng</th>\n",
       "      <th>Max Temp</th>\n",
       "      <th>Humidity</th>\n",
       "      <th>Cloudiness</th>\n",
       "      <th>Wind Speed</th>\n",
       "      <th>Country</th>\n",
       "      <th>Date</th>\n",
       "    </tr>\n",
       "    <tr>\n",
       "      <th>City_ID</th>\n",
       "      <th></th>\n",
       "      <th></th>\n",
       "      <th></th>\n",
       "      <th></th>\n",
       "      <th></th>\n",
       "      <th></th>\n",
       "      <th></th>\n",
       "      <th></th>\n",
       "      <th></th>\n",
       "    </tr>\n",
       "  </thead>\n",
       "  <tbody>\n",
       "    <tr>\n",
       "      <th>1</th>\n",
       "      <td>albany</td>\n",
       "      <td>42.6001</td>\n",
       "      <td>-73.9662</td>\n",
       "      <td>6.69</td>\n",
       "      <td>90</td>\n",
       "      <td>97</td>\n",
       "      <td>0.89</td>\n",
       "      <td>US</td>\n",
       "      <td>1672971620</td>\n",
       "    </tr>\n",
       "    <tr>\n",
       "      <th>2</th>\n",
       "      <td>santa barbara</td>\n",
       "      <td>34.7333</td>\n",
       "      <td>-120.0343</td>\n",
       "      <td>9.90</td>\n",
       "      <td>91</td>\n",
       "      <td>100</td>\n",
       "      <td>2.06</td>\n",
       "      <td>US</td>\n",
       "      <td>1672971565</td>\n",
       "    </tr>\n",
       "    <tr>\n",
       "      <th>3</th>\n",
       "      <td>cayenne</td>\n",
       "      <td>4.9333</td>\n",
       "      <td>-52.3333</td>\n",
       "      <td>23.02</td>\n",
       "      <td>100</td>\n",
       "      <td>75</td>\n",
       "      <td>1.03</td>\n",
       "      <td>GF</td>\n",
       "      <td>1672971353</td>\n",
       "    </tr>\n",
       "    <tr>\n",
       "      <th>5</th>\n",
       "      <td>nantucket</td>\n",
       "      <td>41.2835</td>\n",
       "      <td>-70.0995</td>\n",
       "      <td>8.06</td>\n",
       "      <td>98</td>\n",
       "      <td>100</td>\n",
       "      <td>6.17</td>\n",
       "      <td>US</td>\n",
       "      <td>1672971337</td>\n",
       "    </tr>\n",
       "    <tr>\n",
       "      <th>6</th>\n",
       "      <td>naze</td>\n",
       "      <td>28.3667</td>\n",
       "      <td>129.4833</td>\n",
       "      <td>16.51</td>\n",
       "      <td>57</td>\n",
       "      <td>61</td>\n",
       "      <td>2.54</td>\n",
       "      <td>JP</td>\n",
       "      <td>1672971636</td>\n",
       "    </tr>\n",
       "  </tbody>\n",
       "</table>\n",
       "</div>"
      ],
      "text/plain": [
       "                  City      Lat       Lng  Max Temp  Humidity  Cloudiness  \\\n",
       "City_ID                                                                     \n",
       "1               albany  42.6001  -73.9662      6.69        90          97   \n",
       "2        santa barbara  34.7333 -120.0343      9.90        91         100   \n",
       "3              cayenne   4.9333  -52.3333     23.02       100          75   \n",
       "5            nantucket  41.2835  -70.0995      8.06        98         100   \n",
       "6                 naze  28.3667  129.4833     16.51        57          61   \n",
       "\n",
       "         Wind Speed Country        Date  \n",
       "City_ID                                  \n",
       "1              0.89      US  1672971620  \n",
       "2              2.06      US  1672971565  \n",
       "3              1.03      GF  1672971353  \n",
       "5              6.17      US  1672971337  \n",
       "6              2.54      JP  1672971636  "
      ]
     },
     "execution_count": 73,
     "metadata": {},
     "output_type": "execute_result"
    }
   ],
   "source": [
    "# Create a DataFrame with the Northern Hemisphere data (Latitude >= 0)\n",
    "northern_hemi_df=city_data_df.loc[city_data_df[\"Lat\"] >= 0]\n",
    "\n",
    "# Display sample data\n",
    "northern_hemi_df.head()"
   ]
  },
  {
   "cell_type": "code",
   "execution_count": 74,
   "metadata": {},
   "outputs": [
    {
     "data": {
      "text/html": [
       "<div>\n",
       "<style scoped>\n",
       "    .dataframe tbody tr th:only-of-type {\n",
       "        vertical-align: middle;\n",
       "    }\n",
       "\n",
       "    .dataframe tbody tr th {\n",
       "        vertical-align: top;\n",
       "    }\n",
       "\n",
       "    .dataframe thead th {\n",
       "        text-align: right;\n",
       "    }\n",
       "</style>\n",
       "<table border=\"1\" class=\"dataframe\">\n",
       "  <thead>\n",
       "    <tr style=\"text-align: right;\">\n",
       "      <th></th>\n",
       "      <th>City</th>\n",
       "      <th>Lat</th>\n",
       "      <th>Lng</th>\n",
       "      <th>Max Temp</th>\n",
       "      <th>Humidity</th>\n",
       "      <th>Cloudiness</th>\n",
       "      <th>Wind Speed</th>\n",
       "      <th>Country</th>\n",
       "      <th>Date</th>\n",
       "    </tr>\n",
       "    <tr>\n",
       "      <th>City_ID</th>\n",
       "      <th></th>\n",
       "      <th></th>\n",
       "      <th></th>\n",
       "      <th></th>\n",
       "      <th></th>\n",
       "      <th></th>\n",
       "      <th></th>\n",
       "      <th></th>\n",
       "      <th></th>\n",
       "    </tr>\n",
       "  </thead>\n",
       "  <tbody>\n",
       "    <tr>\n",
       "      <th>0</th>\n",
       "      <td>east london</td>\n",
       "      <td>-33.0153</td>\n",
       "      <td>27.9116</td>\n",
       "      <td>17.73</td>\n",
       "      <td>81</td>\n",
       "      <td>100</td>\n",
       "      <td>2.17</td>\n",
       "      <td>ZA</td>\n",
       "      <td>1672971628</td>\n",
       "    </tr>\n",
       "    <tr>\n",
       "      <th>4</th>\n",
       "      <td>new norfolk</td>\n",
       "      <td>-42.7826</td>\n",
       "      <td>147.0587</td>\n",
       "      <td>20.40</td>\n",
       "      <td>36</td>\n",
       "      <td>0</td>\n",
       "      <td>2.16</td>\n",
       "      <td>AU</td>\n",
       "      <td>1672971633</td>\n",
       "    </tr>\n",
       "    <tr>\n",
       "      <th>7</th>\n",
       "      <td>rikitea</td>\n",
       "      <td>-23.1203</td>\n",
       "      <td>-134.9692</td>\n",
       "      <td>25.86</td>\n",
       "      <td>76</td>\n",
       "      <td>9</td>\n",
       "      <td>7.19</td>\n",
       "      <td>PF</td>\n",
       "      <td>1672971637</td>\n",
       "    </tr>\n",
       "    <tr>\n",
       "      <th>8</th>\n",
       "      <td>punta arenas</td>\n",
       "      <td>-53.1500</td>\n",
       "      <td>-70.9167</td>\n",
       "      <td>14.06</td>\n",
       "      <td>72</td>\n",
       "      <td>75</td>\n",
       "      <td>10.29</td>\n",
       "      <td>CL</td>\n",
       "      <td>1672971639</td>\n",
       "    </tr>\n",
       "    <tr>\n",
       "      <th>9</th>\n",
       "      <td>samarai</td>\n",
       "      <td>-10.6167</td>\n",
       "      <td>150.6667</td>\n",
       "      <td>29.97</td>\n",
       "      <td>67</td>\n",
       "      <td>64</td>\n",
       "      <td>3.20</td>\n",
       "      <td>PG</td>\n",
       "      <td>1672971640</td>\n",
       "    </tr>\n",
       "  </tbody>\n",
       "</table>\n",
       "</div>"
      ],
      "text/plain": [
       "                 City      Lat       Lng  Max Temp  Humidity  Cloudiness  \\\n",
       "City_ID                                                                    \n",
       "0         east london -33.0153   27.9116     17.73        81         100   \n",
       "4         new norfolk -42.7826  147.0587     20.40        36           0   \n",
       "7             rikitea -23.1203 -134.9692     25.86        76           9   \n",
       "8        punta arenas -53.1500  -70.9167     14.06        72          75   \n",
       "9             samarai -10.6167  150.6667     29.97        67          64   \n",
       "\n",
       "         Wind Speed Country        Date  \n",
       "City_ID                                  \n",
       "0              2.17      ZA  1672971628  \n",
       "4              2.16      AU  1672971633  \n",
       "7              7.19      PF  1672971637  \n",
       "8             10.29      CL  1672971639  \n",
       "9              3.20      PG  1672971640  "
      ]
     },
     "execution_count": 74,
     "metadata": {},
     "output_type": "execute_result"
    }
   ],
   "source": [
    "# Create a DataFrame with the Southern Hemisphere data (Latitude < 0)\n",
    "southern_hemi_df=city_data_df.loc[city_data_df[\"Lat\"] < 0]\n",
    "\n",
    "# Display sample data\n",
    "southern_hemi_df.head()"
   ]
  },
  {
   "cell_type": "markdown",
   "metadata": {},
   "source": [
    "###  Temperature vs. Latitude Linear Regression Plot"
   ]
  },
  {
   "cell_type": "code",
   "execution_count": 86,
   "metadata": {},
   "outputs": [
    {
     "name": "stdout",
     "output_type": "stream",
     "text": [
      "The r-value is : -0.8571693678704896\n"
     ]
    },
    {
     "data": {
      "image/png": "[encoded data removed]",
      "text/plain": [
       "<Figure size 432x288 with 1 Axes>"
      ]
     },
     "metadata": {
      "needs_background": "light"
     },
     "output_type": "display_data"
    },
    {
     "name": "stdout",
     "output_type": "stream",
     "text": [
      "the correlation between both factor is : -0.86\n"
     ]
    }
   ],
   "source": [
    "# Linear regression on Northern Hemisphere\n",
    "x_values=northern_hemi_df[\"Lat\"]\n",
    "y_values=northern_hemi_df[\"Max Temp\"]\n",
    "regression()\n",
    "plt.xlabel('Latitude')\n",
    "plt.ylabel('Max Tem')\n",
    "plt.show()\n",
    "\n",
    "correlation()"
   ]
  },
  {
   "cell_type": "markdown",
   "metadata": {},
   "source": [
    "The Max Tempature vs. Latitude plot for cities in the northern hemisphere is shown above. The correlation value is -0.86 , the data seems to show , the max temperature appears show a strong negative linear relationship with latitudes in the northern hemisphere."
   ]
  },
  {
   "cell_type": "code",
   "execution_count": 76,
   "metadata": {},
   "outputs": [
    {
     "name": "stdout",
     "output_type": "stream",
     "text": [
      "The r-value is : 0.2976302962016073\n"
     ]
    },
    {
     "data": {
      "image/png": "[encoded data removed]",
      "text/plain": [
       "<Figure size 432x288 with 1 Axes>"
      ]
     },
     "metadata": {
      "needs_background": "light"
     },
     "output_type": "display_data"
    },
    {
     "name": "stdout",
     "output_type": "stream",
     "text": [
      "the correlation between both factor is : 0.3\n"
     ]
    }
   ],
   "source": [
    "# Linear regression on Southern Hemisphere\n",
    "x_values=southern_hemi_df[\"Lat\"]\n",
    "y_values=southern_hemi_df[\"Max Temp\"]\n",
    "regression()\n",
    "plt.xlabel('Latitude')\n",
    "plt.ylabel('Max Tem')\n",
    "plt.show()\n",
    "\n",
    "correlation()"
   ]
  },
  {
   "cell_type": "markdown",
   "metadata": {},
   "source": [
    "The Max Tempature vs. Latitude plot for cities in the southern hemisphere is shown above. The correlation value is 0.3 ,Unlike northern hemisphere,  the data seems to show no relationship between max tempature and latitude for the southern hemisphere."
   ]
  },
  {
   "cell_type": "markdown",
   "metadata": {},
   "source": [
    "### Humidity vs. Latitude Linear Regression Plot"
   ]
  },
  {
   "cell_type": "code",
   "execution_count": 77,
   "metadata": {},
   "outputs": [
    {
     "name": "stdout",
     "output_type": "stream",
     "text": [
      "The r-value is : 0.44165432032571555\n"
     ]
    },
    {
     "data": {
      "image/png": "[encoded data removed]",
      "text/plain": [
       "<Figure size 432x288 with 1 Axes>"
      ]
     },
     "metadata": {
      "needs_background": "light"
     },
     "output_type": "display_data"
    },
    {
     "name": "stdout",
     "output_type": "stream",
     "text": [
      "the correlation between both factor is : 0.44\n"
     ]
    }
   ],
   "source": [
    "# Northern Hemisphere\n",
    "x_values=northern_hemi_df[\"Lat\"]\n",
    "y_values=northern_hemi_df[\"Humidity\"]\n",
    "regression()\n",
    "plt.xlabel('Latitude')\n",
    "plt.ylabel('Humidity')\n",
    "plt.show()\n",
    "\n",
    "correlation()"
   ]
  },
  {
   "cell_type": "markdown",
   "metadata": {},
   "source": [
    "The Humidity vs. Latitude plot for cities in the northern hemisphere is shown above. The correlation value is 0.44 , the data seems to show no relationship between Humidity and latitude for the northern hemisphere."
   ]
  },
  {
   "cell_type": "code",
   "execution_count": 93,
   "metadata": {},
   "outputs": [
    {
     "name": "stdout",
     "output_type": "stream",
     "text": [
      "The r-value is : 0.34576114502688104\n"
     ]
    },
    {
     "data": {
      "image/png": "[encoded data removed]",
      "text/plain": [
       "<Figure size 432x288 with 1 Axes>"
      ]
     },
     "metadata": {
      "needs_background": "light"
     },
     "output_type": "display_data"
    },
    {
     "name": "stdout",
     "output_type": "stream",
     "text": [
      "the correlation between both factor is : 0.35\n"
     ]
    }
   ],
   "source": [
    "# Southern Hemisphere\n",
    "x_values=southern_hemi_df[\"Lat\"]\n",
    "y_values=southern_hemi_df[\"Humidity\"]\n",
    "regression()\n",
    "plt.xlabel('Latitude')\n",
    "plt.ylabel('Humidity')\n",
    "plt.ylim(10,100)\n",
    "plt.show()\n",
    "\n",
    "correlation()"
   ]
  },
  {
   "cell_type": "markdown",
   "metadata": {},
   "source": [
    "The Humidity vs. Latitude plot for cities in the southern hemisphere is shown above. The correlation value is 0.35 , the data seems to show no relationship between Humidity and latitude for the southern hemisphere."
   ]
  },
  {
   "cell_type": "markdown",
   "metadata": {},
   "source": [
    "### Cloudiness vs. Latitude Linear Regression Plot"
   ]
  },
  {
   "cell_type": "code",
   "execution_count": 79,
   "metadata": {},
   "outputs": [
    {
     "name": "stdout",
     "output_type": "stream",
     "text": [
      "The r-value is : 0.23562138494132276\n"
     ]
    },
    {
     "data": {
      "image/png": "[encoded data removed]",
      "text/plain": [
       "<Figure size 432x288 with 1 Axes>"
      ]
     },
     "metadata": {
      "needs_background": "light"
     },
     "output_type": "display_data"
    },
    {
     "name": "stdout",
     "output_type": "stream",
     "text": [
      "the correlation between both factor is : 0.24\n"
     ]
    }
   ],
   "source": [
    "# Northern Hemisphere\n",
    "x_values=northern_hemi_df[\"Lat\"]\n",
    "y_values=northern_hemi_df[\"Cloudiness\"]\n",
    "regression()\n",
    "plt.xlabel('Latitude')\n",
    "plt.ylabel('Cloudiness')\n",
    "\n",
    "plt.show()\n",
    "\n",
    "correlation()"
   ]
  },
  {
   "cell_type": "markdown",
   "metadata": {},
   "source": [
    "The Cloudiness vs. Latitude plot for cities in the northern hemisphere is shown above. The correlation value is 0.24 , the data seems to show no relationship between cloudiness and latitude for the northern hemisphere."
   ]
  },
  {
   "cell_type": "code",
   "execution_count": 80,
   "metadata": {},
   "outputs": [
    {
     "name": "stdout",
     "output_type": "stream",
     "text": [
      "The r-value is : 0.2988572692109772\n"
     ]
    },
    {
     "data": {
      "image/png": "[encoded data removed]",
      "text/plain": [
       "<Figure size 432x288 with 1 Axes>"
      ]
     },
     "metadata": {
      "needs_background": "light"
     },
     "output_type": "display_data"
    },
    {
     "name": "stdout",
     "output_type": "stream",
     "text": [
      "the correlation between both factor is : 0.3\n"
     ]
    }
   ],
   "source": [
    "# Southern Hemisphere\n",
    "x_values=southern_hemi_df[\"Lat\"]\n",
    "y_values=southern_hemi_df[\"Cloudiness\"]\n",
    "regression()\n",
    "plt.xlabel('Latitude')\n",
    "plt.ylabel('Cloudiness')\n",
    "plt.show()\n",
    "\n",
    "correlation()"
   ]
  },
  {
   "cell_type": "markdown",
   "metadata": {},
   "source": [
    " The Cloudiness vs. Latitude plot for cities in the southern hemisphere is shown above. The correlation value is 0.3 , the data seems to show no relationship between cloudiness and latitude for the southern hemisphere."
   ]
  },
  {
   "cell_type": "markdown",
   "metadata": {},
   "source": [
    "### Wind Speed vs. Latitude Linear Regression Plot"
   ]
  },
  {
   "cell_type": "code",
   "execution_count": 81,
   "metadata": {},
   "outputs": [
    {
     "name": "stdout",
     "output_type": "stream",
     "text": [
      "The r-value is : 0.0764238774964734\n"
     ]
    },
    {
     "data": {
      "image/png": "[encoded data removed]",
      "text/plain": [
       "<Figure size 432x288 with 1 Axes>"
      ]
     },
     "metadata": {
      "needs_background": "light"
     },
     "output_type": "display_data"
    },
    {
     "name": "stdout",
     "output_type": "stream",
     "text": [
      "the correlation between both factor is : 0.08\n"
     ]
    }
   ],
   "source": [
    "# Northern Hemisphere\n",
    "x_values=northern_hemi_df[\"Lat\"]\n",
    "y_values=northern_hemi_df[\"Wind Speed\"]\n",
    "regression()\n",
    "plt.xlabel('Latitude')\n",
    "plt.ylabel('Wind Speed')\n",
    "plt.show()\n",
    "correlation()"
   ]
  },
  {
   "cell_type": "markdown",
   "metadata": {},
   "source": [
    "The Wind Speed vs. Latitude plot for cities in the northern hemisphere is shown above. the correlation value is 0.08 , the data seems to show no relationship between wind speed and latitude for the northern hemisphere. "
   ]
  },
  {
   "cell_type": "code",
   "execution_count": 96,
   "metadata": {},
   "outputs": [
    {
     "name": "stdout",
     "output_type": "stream",
     "text": [
      "The r-value is : -0.3623724147794168\n"
     ]
    },
    {
     "data": {
      "image/png": "[encoded data removed]",
      "text/plain": [
       "<Figure size 432x288 with 1 Axes>"
      ]
     },
     "metadata": {
      "needs_background": "light"
     },
     "output_type": "display_data"
    },
    {
     "name": "stdout",
     "output_type": "stream",
     "text": [
      "the correlation between both factor is : -0.36\n"
     ]
    }
   ],
   "source": [
    "# Southern Hemisphere\n",
    "x_values=southern_hemi_df[\"Lat\"]\n",
    "y_values=southern_hemi_df[\"Wind Speed\"]\n",
    "regression()\n",
    "plt.xlabel('Latitude')\n",
    "plt.ylabel('Wind Speed')\n",
    "plt.ylim(0,15)\n",
    "plt.show()\n",
    "correlation()"
   ]
  },
  {
   "cell_type": "markdown",
   "metadata": {},
   "source": [
    " The Wind Speed vs. Latitude plot for cities in the southern hemisphere is shown above. the correlation value is -0.36 , the data seems to show no relationship between wind speed and latitude for the southern hemisphere. "
   ]
  }
 ],
 "metadata": {
  "anaconda-cloud": {},
  "kernel_info": {
   "name": "python3"
  },
  "kernelspec": {
   "display_name": "Python 3 (ipykernel)",
   "language": "python",
   "name": "python3"
  },
  "language_info": {
   "codemirror_mode": {
    "name": "ipython",
    "version": 3
   },
   "file_extension": ".py",
   "mimetype": "text/x-python",
   "name": "python",
   "nbconvert_exporter": "python",
   "pygments_lexer": "ipython3",
   "version": "3.7.7"
  },
  "latex_envs": {
   "LaTeX_envs_menu_present": true,
   "autoclose": false,
   "autocomplete": true,
   "bibliofile": "biblio.bib",
   "cite_by": "apalike",
   "current_citInitial": 1,
   "eqLabelWithNumbers": true,
   "eqNumInitial": 1,
   "hotkeys": {
    "equation": "Ctrl-E",
    "itemize": "Ctrl-I"
   },
   "labels_anchors": false,
   "latex_user_defs": false,
   "report_style_numbering": false,
   "user_envs_cfg": false
  },
  "nteract": {
   "version": "0.12.3"
  }
 },
 "nbformat": 4,
 "nbformat_minor": 4
}

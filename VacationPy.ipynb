{
 "cells": [
  {
   "cell_type": "markdown",
   "metadata": {},
   "source": [
    "# VacationPy\n",
    "---\n",
    "\n",
    "## Starter Code to Import Libraries and Load the Weather and Coordinates Data"
   ]
  },
  {
   "cell_type": "code",
   "execution_count": 10,
   "metadata": {
    "ExecuteTime": {
     "start_time": "2023-04-27T23:12:30.182334Z",
     "end_time": "2023-04-27T23:12:30.184254Z"
    }
   },
   "outputs": [],
   "source": [
    "# Dependencies and Setup\n",
    "import hvplot.pandas\n",
    "import pandas as pd\n",
    "import requests\n",
    "\n",
    "# Import API key\n",
    "from api_keys import geoapify_key"
   ]
  },
  {
   "cell_type": "code",
   "execution_count": 11,
   "metadata": {
    "ExecuteTime": {
     "start_time": "2023-04-27T23:12:31.924942Z",
     "end_time": "2023-04-27T23:12:31.938945Z"
    }
   },
   "outputs": [
    {
     "data": {
      "text/plain": "   City_ID          City      Lat       Lng  Max Temp  Humidity  Cloudiness  \\\n0        0     poronaysk  49.2167  143.1167    -18.71        75           5   \n1        1      pucallpa  -8.3791  -74.5539     26.02        83          75   \n2        2       kahului  20.8947 -156.4700     23.80        79          40   \n3        3          hilo  19.7297 -155.0900     22.38        88          20   \n4        4  saint-pierre -21.3393   55.4781     25.82        73           0   \n\n   Wind Speed Country        Date  \n0        0.46      RU  1675043055  \n1        2.06      PE  1675043056  \n2        4.12      US  1675043056  \n3        0.45      US  1675042860  \n4        1.54      RE  1675043057  ",
      "text/html": "<div>\n<style scoped>\n    .dataframe tbody tr th:only-of-type {\n        vertical-align: middle;\n    }\n\n    .dataframe tbody tr th {\n        vertical-align: top;\n    }\n\n    .dataframe thead th {\n        text-align: right;\n    }\n</style>\n<table border=\"1\" class=\"dataframe\">\n  <thead>\n    <tr style=\"text-align: right;\">\n      <th></th>\n      <th>City_ID</th>\n      <th>City</th>\n      <th>Lat</th>\n      <th>Lng</th>\n      <th>Max Temp</th>\n      <th>Humidity</th>\n      <th>Cloudiness</th>\n      <th>Wind Speed</th>\n      <th>Country</th>\n      <th>Date</th>\n    </tr>\n  </thead>\n  <tbody>\n    <tr>\n      <th>0</th>\n      <td>0</td>\n      <td>poronaysk</td>\n      <td>49.2167</td>\n      <td>143.1167</td>\n      <td>-18.71</td>\n      <td>75</td>\n      <td>5</td>\n      <td>0.46</td>\n      <td>RU</td>\n      <td>1675043055</td>\n    </tr>\n    <tr>\n      <th>1</th>\n      <td>1</td>\n      <td>pucallpa</td>\n      <td>-8.3791</td>\n      <td>-74.5539</td>\n      <td>26.02</td>\n      <td>83</td>\n      <td>75</td>\n      <td>2.06</td>\n      <td>PE</td>\n      <td>1675043056</td>\n    </tr>\n    <tr>\n      <th>2</th>\n      <td>2</td>\n      <td>kahului</td>\n      <td>20.8947</td>\n      <td>-156.4700</td>\n      <td>23.80</td>\n      <td>79</td>\n      <td>40</td>\n      <td>4.12</td>\n      <td>US</td>\n      <td>1675043056</td>\n    </tr>\n    <tr>\n      <th>3</th>\n      <td>3</td>\n      <td>hilo</td>\n      <td>19.7297</td>\n      <td>-155.0900</td>\n      <td>22.38</td>\n      <td>88</td>\n      <td>20</td>\n      <td>0.45</td>\n      <td>US</td>\n      <td>1675042860</td>\n    </tr>\n    <tr>\n      <th>4</th>\n      <td>4</td>\n      <td>saint-pierre</td>\n      <td>-21.3393</td>\n      <td>55.4781</td>\n      <td>25.82</td>\n      <td>73</td>\n      <td>0</td>\n      <td>1.54</td>\n      <td>RE</td>\n      <td>1675043057</td>\n    </tr>\n  </tbody>\n</table>\n</div>"
     },
     "execution_count": 11,
     "metadata": {},
     "output_type": "execute_result"
    }
   ],
   "source": [
    "# Load the CSV file created in Part 1 into a Pandas DataFrame\n",
    "city_data_df = pd.read_csv(\"output_data/cities.csv\")\n",
    "\n",
    "# Display sample data\n",
    "city_data_df.head()"
   ]
  },
  {
   "cell_type": "markdown",
   "metadata": {},
   "source": [
    "---\n",
    "\n",
    "### Step 1: Create a map that displays a point for every city in the `city_data_df` DataFrame. The size of the point should be the humidity in each city."
   ]
  },
  {
   "cell_type": "code",
   "execution_count": 12,
   "metadata": {
    "ExecuteTime": {
     "start_time": "2023-04-27T23:12:32.311558Z",
     "end_time": "2023-04-27T23:12:32.325693Z"
    }
   },
   "outputs": [
    {
     "ename": "ImportError",
     "evalue": "Geographic projection support requires GeoViews and cartopy.",
     "output_type": "error",
     "traceback": [
      "\u001B[0;31m---------------------------------------------------------------------------\u001B[0m",
      "\u001B[0;31mModuleNotFoundError\u001B[0m                       Traceback (most recent call last)",
      "\u001B[0;32m~/opt/anaconda3/lib/python3.9/site-packages/hvplot/util.py\u001B[0m in \u001B[0;36mprocess_crs\u001B[0;34m(crs)\u001B[0m\n\u001B[1;32m    231\u001B[0m     \u001B[0;32mtry\u001B[0m\u001B[0;34m:\u001B[0m\u001B[0;34m\u001B[0m\u001B[0;34m\u001B[0m\u001B[0m\n\u001B[0;32m--> 232\u001B[0;31m         \u001B[0;32mimport\u001B[0m \u001B[0mcartopy\u001B[0m\u001B[0;34m.\u001B[0m\u001B[0mcrs\u001B[0m \u001B[0;32mas\u001B[0m \u001B[0mccrs\u001B[0m\u001B[0;34m\u001B[0m\u001B[0;34m\u001B[0m\u001B[0m\n\u001B[0m\u001B[1;32m    233\u001B[0m         \u001B[0;32mimport\u001B[0m \u001B[0mgeoviews\u001B[0m \u001B[0;32mas\u001B[0m \u001B[0mgv\u001B[0m \u001B[0;31m# noqa\u001B[0m\u001B[0;34m\u001B[0m\u001B[0;34m\u001B[0m\u001B[0m\n",
      "\u001B[0;31mModuleNotFoundError\u001B[0m: No module named 'cartopy'",
      "\nDuring handling of the above exception, another exception occurred:\n",
      "\u001B[0;31mImportError\u001B[0m                               Traceback (most recent call last)",
      "\u001B[0;32m/var/folders/gz/yqwhjwdd6c75tl8kh7k5sr700000gn/T/ipykernel_82975/3108390880.py\u001B[0m in \u001B[0;36m<module>\u001B[0;34m\u001B[0m\n\u001B[1;32m      2\u001B[0m \u001B[0;34m\u001B[0m\u001B[0m\n\u001B[1;32m      3\u001B[0m \u001B[0;31m# Configure the map plot\u001B[0m\u001B[0;34m\u001B[0m\u001B[0;34m\u001B[0m\u001B[0m\n\u001B[0;32m----> 4\u001B[0;31m map_plot_1 = city_data_df.hvplot.points(\n\u001B[0m\u001B[1;32m      5\u001B[0m     \u001B[0;34m\"Lng\"\u001B[0m\u001B[0;34m,\u001B[0m\u001B[0;34m\u001B[0m\u001B[0;34m\u001B[0m\u001B[0m\n\u001B[1;32m      6\u001B[0m     \u001B[0;34m\"Lat\"\u001B[0m\u001B[0;34m,\u001B[0m\u001B[0;34m\u001B[0m\u001B[0;34m\u001B[0m\u001B[0m\n",
      "\u001B[0;32m~/opt/anaconda3/lib/python3.9/site-packages/hvplot/plotting/core.py\u001B[0m in \u001B[0;36mpoints\u001B[0;34m(self, x, y, **kwds)\u001B[0m\n\u001B[1;32m    520\u001B[0m             \u001B[0mThe\u001B[0m \u001B[0mHoloViews\u001B[0m \u001B[0mrepresentation\u001B[0m \u001B[0mof\u001B[0m \u001B[0mthe\u001B[0m \u001B[0mplot\u001B[0m\u001B[0;34m.\u001B[0m\u001B[0;34m\u001B[0m\u001B[0;34m\u001B[0m\u001B[0m\n\u001B[1;32m    521\u001B[0m         \"\"\"\n\u001B[0;32m--> 522\u001B[0;31m         \u001B[0;32mreturn\u001B[0m \u001B[0mself\u001B[0m\u001B[0;34m(\u001B[0m\u001B[0mx\u001B[0m\u001B[0;34m,\u001B[0m \u001B[0my\u001B[0m\u001B[0;34m,\u001B[0m \u001B[0mkind\u001B[0m\u001B[0;34m=\u001B[0m\u001B[0;34m'points'\u001B[0m\u001B[0;34m,\u001B[0m \u001B[0;34m**\u001B[0m\u001B[0mkwds\u001B[0m\u001B[0;34m)\u001B[0m\u001B[0;34m\u001B[0m\u001B[0;34m\u001B[0m\u001B[0m\n\u001B[0m\u001B[1;32m    523\u001B[0m \u001B[0;34m\u001B[0m\u001B[0m\n\u001B[1;32m    524\u001B[0m     \u001B[0;32mdef\u001B[0m \u001B[0mvectorfield\u001B[0m\u001B[0;34m(\u001B[0m\u001B[0mself\u001B[0m\u001B[0;34m,\u001B[0m \u001B[0mx\u001B[0m\u001B[0;34m=\u001B[0m\u001B[0;32mNone\u001B[0m\u001B[0;34m,\u001B[0m \u001B[0my\u001B[0m\u001B[0;34m=\u001B[0m\u001B[0;32mNone\u001B[0m\u001B[0;34m,\u001B[0m \u001B[0mangle\u001B[0m\u001B[0;34m=\u001B[0m\u001B[0;32mNone\u001B[0m\u001B[0;34m,\u001B[0m \u001B[0mmag\u001B[0m\u001B[0;34m=\u001B[0m\u001B[0;32mNone\u001B[0m\u001B[0;34m,\u001B[0m \u001B[0;34m**\u001B[0m\u001B[0mkwds\u001B[0m\u001B[0;34m)\u001B[0m\u001B[0;34m:\u001B[0m\u001B[0;34m\u001B[0m\u001B[0;34m\u001B[0m\u001B[0m\n",
      "\u001B[0;32m~/opt/anaconda3/lib/python3.9/site-packages/hvplot/plotting/core.py\u001B[0m in \u001B[0;36m__call__\u001B[0;34m(self, x, y, kind, **kwds)\u001B[0m\n\u001B[1;32m     80\u001B[0m                 \u001B[0;32mreturn\u001B[0m \u001B[0mpn\u001B[0m\u001B[0;34m.\u001B[0m\u001B[0mpanel\u001B[0m\u001B[0;34m(\u001B[0m\u001B[0mplot\u001B[0m\u001B[0;34m,\u001B[0m \u001B[0;34m**\u001B[0m\u001B[0mpanel_dict\u001B[0m\u001B[0;34m)\u001B[0m\u001B[0;34m\u001B[0m\u001B[0;34m\u001B[0m\u001B[0m\n\u001B[1;32m     81\u001B[0m \u001B[0;34m\u001B[0m\u001B[0m\n\u001B[0;32m---> 82\u001B[0;31m         \u001B[0;32mreturn\u001B[0m \u001B[0mself\u001B[0m\u001B[0;34m.\u001B[0m\u001B[0m_get_converter\u001B[0m\u001B[0;34m(\u001B[0m\u001B[0mx\u001B[0m\u001B[0;34m,\u001B[0m \u001B[0my\u001B[0m\u001B[0;34m,\u001B[0m \u001B[0mkind\u001B[0m\u001B[0;34m,\u001B[0m \u001B[0;34m**\u001B[0m\u001B[0mkwds\u001B[0m\u001B[0;34m)\u001B[0m\u001B[0;34m(\u001B[0m\u001B[0mkind\u001B[0m\u001B[0;34m,\u001B[0m \u001B[0mx\u001B[0m\u001B[0;34m,\u001B[0m \u001B[0my\u001B[0m\u001B[0;34m)\u001B[0m\u001B[0;34m\u001B[0m\u001B[0;34m\u001B[0m\u001B[0m\n\u001B[0m\u001B[1;32m     83\u001B[0m \u001B[0;34m\u001B[0m\u001B[0m\n\u001B[1;32m     84\u001B[0m     \u001B[0;32mdef\u001B[0m \u001B[0m_get_converter\u001B[0m\u001B[0;34m(\u001B[0m\u001B[0mself\u001B[0m\u001B[0;34m,\u001B[0m \u001B[0mx\u001B[0m\u001B[0;34m=\u001B[0m\u001B[0;32mNone\u001B[0m\u001B[0;34m,\u001B[0m \u001B[0my\u001B[0m\u001B[0;34m=\u001B[0m\u001B[0;32mNone\u001B[0m\u001B[0;34m,\u001B[0m \u001B[0mkind\u001B[0m\u001B[0;34m=\u001B[0m\u001B[0;32mNone\u001B[0m\u001B[0;34m,\u001B[0m \u001B[0;34m**\u001B[0m\u001B[0mkwds\u001B[0m\u001B[0;34m)\u001B[0m\u001B[0;34m:\u001B[0m\u001B[0;34m\u001B[0m\u001B[0;34m\u001B[0m\u001B[0m\n",
      "\u001B[0;32m~/opt/anaconda3/lib/python3.9/site-packages/hvplot/plotting/core.py\u001B[0m in \u001B[0;36m_get_converter\u001B[0;34m(self, x, y, kind, **kwds)\u001B[0m\n\u001B[1;32m     87\u001B[0m         \u001B[0my\u001B[0m \u001B[0;34m=\u001B[0m \u001B[0my\u001B[0m \u001B[0;32mor\u001B[0m \u001B[0mparams\u001B[0m\u001B[0;34m.\u001B[0m\u001B[0mpop\u001B[0m\u001B[0;34m(\u001B[0m\u001B[0;34m'y'\u001B[0m\u001B[0;34m,\u001B[0m \u001B[0;32mNone\u001B[0m\u001B[0;34m)\u001B[0m\u001B[0;34m\u001B[0m\u001B[0;34m\u001B[0m\u001B[0m\n\u001B[1;32m     88\u001B[0m         \u001B[0mkind\u001B[0m \u001B[0;34m=\u001B[0m \u001B[0mkind\u001B[0m \u001B[0;32mor\u001B[0m \u001B[0mparams\u001B[0m\u001B[0;34m.\u001B[0m\u001B[0mpop\u001B[0m\u001B[0;34m(\u001B[0m\u001B[0;34m'kind'\u001B[0m\u001B[0;34m,\u001B[0m \u001B[0;32mNone\u001B[0m\u001B[0;34m)\u001B[0m\u001B[0;34m\u001B[0m\u001B[0;34m\u001B[0m\u001B[0m\n\u001B[0;32m---> 89\u001B[0;31m         return HoloViewsConverter(\n\u001B[0m\u001B[1;32m     90\u001B[0m             \u001B[0mself\u001B[0m\u001B[0;34m.\u001B[0m\u001B[0m_data\u001B[0m\u001B[0;34m,\u001B[0m \u001B[0mx\u001B[0m\u001B[0;34m,\u001B[0m \u001B[0my\u001B[0m\u001B[0;34m,\u001B[0m \u001B[0mkind\u001B[0m\u001B[0;34m=\u001B[0m\u001B[0mkind\u001B[0m\u001B[0;34m,\u001B[0m \u001B[0;34m**\u001B[0m\u001B[0mparams\u001B[0m\u001B[0;34m\u001B[0m\u001B[0;34m\u001B[0m\u001B[0m\n\u001B[1;32m     91\u001B[0m         )\n",
      "\u001B[0;32m~/opt/anaconda3/lib/python3.9/site-packages/hvplot/converter.py\u001B[0m in \u001B[0;36m__init__\u001B[0;34m(self, data, x, y, kind, by, use_index, group_label, value_label, backlog, persist, use_dask, crs, fields, groupby, dynamic, grid, legend, rot, title, xlim, ylim, clim, symmetric, logx, logy, loglog, hover, subplots, label, invert, stacked, colorbar, datashade, rasterize, row, col, debug, framewise, aggregator, projection, global_extent, geo, precompute, flip_xaxis, flip_yaxis, dynspread, hover_cols, x_sampling, y_sampling, project, tools, attr_labels, coastline, tiles, sort_date, check_symmetric_max, transforms, stream, cnorm, features, rescale_discrete_levels, **kwds)\u001B[0m\n\u001B[1;32m    386\u001B[0m         \u001B[0mself\u001B[0m\u001B[0;34m.\u001B[0m\u001B[0mdynamic\u001B[0m \u001B[0;34m=\u001B[0m \u001B[0mdynamic\u001B[0m\u001B[0;34m\u001B[0m\u001B[0;34m\u001B[0m\u001B[0m\n\u001B[1;32m    387\u001B[0m         \u001B[0mself\u001B[0m\u001B[0;34m.\u001B[0m\u001B[0mgeo\u001B[0m \u001B[0;34m=\u001B[0m \u001B[0many\u001B[0m\u001B[0;34m(\u001B[0m\u001B[0;34m[\u001B[0m\u001B[0mgeo\u001B[0m\u001B[0;34m,\u001B[0m \u001B[0mcrs\u001B[0m\u001B[0;34m,\u001B[0m \u001B[0mglobal_extent\u001B[0m\u001B[0;34m,\u001B[0m \u001B[0mprojection\u001B[0m\u001B[0;34m,\u001B[0m \u001B[0mproject\u001B[0m\u001B[0;34m,\u001B[0m \u001B[0mcoastline\u001B[0m\u001B[0;34m,\u001B[0m \u001B[0mfeatures\u001B[0m\u001B[0;34m]\u001B[0m\u001B[0;34m)\u001B[0m\u001B[0;34m\u001B[0m\u001B[0;34m\u001B[0m\u001B[0m\n\u001B[0;32m--> 388\u001B[0;31m         \u001B[0mself\u001B[0m\u001B[0;34m.\u001B[0m\u001B[0mcrs\u001B[0m \u001B[0;34m=\u001B[0m \u001B[0mself\u001B[0m\u001B[0;34m.\u001B[0m\u001B[0m_process_crs\u001B[0m\u001B[0;34m(\u001B[0m\u001B[0mdata\u001B[0m\u001B[0;34m,\u001B[0m \u001B[0mcrs\u001B[0m\u001B[0;34m)\u001B[0m \u001B[0;32mif\u001B[0m \u001B[0mself\u001B[0m\u001B[0;34m.\u001B[0m\u001B[0mgeo\u001B[0m \u001B[0;32melse\u001B[0m \u001B[0;32mNone\u001B[0m\u001B[0;34m\u001B[0m\u001B[0;34m\u001B[0m\u001B[0m\n\u001B[0m\u001B[1;32m    389\u001B[0m         \u001B[0mself\u001B[0m\u001B[0;34m.\u001B[0m\u001B[0mproject\u001B[0m \u001B[0;34m=\u001B[0m \u001B[0mproject\u001B[0m\u001B[0;34m\u001B[0m\u001B[0;34m\u001B[0m\u001B[0m\n\u001B[1;32m    390\u001B[0m         \u001B[0mself\u001B[0m\u001B[0;34m.\u001B[0m\u001B[0mcoastline\u001B[0m \u001B[0;34m=\u001B[0m \u001B[0mcoastline\u001B[0m\u001B[0;34m\u001B[0m\u001B[0;34m\u001B[0m\u001B[0m\n",
      "\u001B[0;32m~/opt/anaconda3/lib/python3.9/site-packages/hvplot/converter.py\u001B[0m in \u001B[0;36m_process_crs\u001B[0;34m(self, data, crs)\u001B[0m\n\u001B[1;32m    628\u001B[0m         \u001B[0m_crs\u001B[0m \u001B[0;34m=\u001B[0m \u001B[0mgetattr\u001B[0m\u001B[0;34m(\u001B[0m\u001B[0mdata\u001B[0m\u001B[0;34m,\u001B[0m \u001B[0;34m'attrs'\u001B[0m\u001B[0;34m,\u001B[0m \u001B[0;34m{\u001B[0m\u001B[0;34m}\u001B[0m\u001B[0;34m)\u001B[0m\u001B[0;34m.\u001B[0m\u001B[0mget\u001B[0m\u001B[0;34m(\u001B[0m\u001B[0mcrs\u001B[0m \u001B[0;32mor\u001B[0m \u001B[0;34m'crs'\u001B[0m\u001B[0;34m,\u001B[0m \u001B[0mcrs\u001B[0m\u001B[0;34m)\u001B[0m\u001B[0;34m\u001B[0m\u001B[0;34m\u001B[0m\u001B[0m\n\u001B[1;32m    629\u001B[0m         \u001B[0;32mtry\u001B[0m\u001B[0;34m:\u001B[0m\u001B[0;34m\u001B[0m\u001B[0;34m\u001B[0m\u001B[0m\n\u001B[0;32m--> 630\u001B[0;31m             \u001B[0;32mreturn\u001B[0m \u001B[0mprocess_crs\u001B[0m\u001B[0;34m(\u001B[0m\u001B[0m_crs\u001B[0m\u001B[0;34m)\u001B[0m\u001B[0;34m\u001B[0m\u001B[0;34m\u001B[0m\u001B[0m\n\u001B[0m\u001B[1;32m    631\u001B[0m         \u001B[0;32mexcept\u001B[0m \u001B[0mValueError\u001B[0m\u001B[0;34m:\u001B[0m\u001B[0;34m\u001B[0m\u001B[0;34m\u001B[0m\u001B[0m\n\u001B[1;32m    632\u001B[0m             \u001B[0;31m# only raise error if crs was specified in kwargs\u001B[0m\u001B[0;34m\u001B[0m\u001B[0;34m\u001B[0m\u001B[0m\n",
      "\u001B[0;32m~/opt/anaconda3/lib/python3.9/site-packages/hvplot/util.py\u001B[0m in \u001B[0;36mprocess_crs\u001B[0;34m(crs)\u001B[0m\n\u001B[1;32m    234\u001B[0m         \u001B[0;32mimport\u001B[0m \u001B[0mpyproj\u001B[0m\u001B[0;34m\u001B[0m\u001B[0;34m\u001B[0m\u001B[0m\n\u001B[1;32m    235\u001B[0m     \u001B[0;32mexcept\u001B[0m \u001B[0mImportError\u001B[0m\u001B[0;34m:\u001B[0m\u001B[0;34m\u001B[0m\u001B[0;34m\u001B[0m\u001B[0m\n\u001B[0;32m--> 236\u001B[0;31m         \u001B[0;32mraise\u001B[0m \u001B[0mImportError\u001B[0m\u001B[0;34m(\u001B[0m\u001B[0;34m'Geographic projection support requires GeoViews and cartopy.'\u001B[0m\u001B[0;34m)\u001B[0m\u001B[0;34m\u001B[0m\u001B[0;34m\u001B[0m\u001B[0m\n\u001B[0m\u001B[1;32m    237\u001B[0m \u001B[0;34m\u001B[0m\u001B[0m\n\u001B[1;32m    238\u001B[0m     \u001B[0;32mif\u001B[0m \u001B[0mcrs\u001B[0m \u001B[0;32mis\u001B[0m \u001B[0;32mNone\u001B[0m\u001B[0;34m:\u001B[0m\u001B[0;34m\u001B[0m\u001B[0;34m\u001B[0m\u001B[0m\n",
      "\u001B[0;31mImportError\u001B[0m: Geographic projection support requires GeoViews and cartopy."
     ]
    }
   ],
   "source": [
    "%%capture --no-display\n",
    "\n",
    "humidity = city_data_df[\"Humidity\"].astype(int)\n",
    "\n",
    "# Configure the map plot\n",
    "map_plot_1 = city_data_df.hvplot.points(\n",
    "    \"Lng\",\n",
    "    \"Lat\",\n",
    "    geo = True,\n",
    "    tiles = \"OSM\",\n",
    "    frame_width = 800,\n",
    "    frame_height = 600,\n",
    "    size = \"Humidity\",\n",
    "    color=\"City\",\n",
    "    alpha=.75\n",
    ")\n",
    "\n",
    "# Display the map\n",
    "map_plot_1"
   ]
  },
  {
   "cell_type": "markdown",
   "metadata": {},
   "source": [
    "### Step 2: Narrow down the `city_data_df` DataFrame to find your ideal weather condition"
   ]
  },
  {
   "cell_type": "code",
   "execution_count": 13,
   "metadata": {
    "ExecuteTime": {
     "start_time": "2023-04-27T23:12:32.692874Z",
     "end_time": "2023-04-27T23:12:32.696446Z"
    }
   },
   "outputs": [
    {
     "data": {
      "text/plain": "     City_ID             City      Lat       Lng  Max Temp  Humidity  \\\n4          4     saint-pierre -21.3393   55.4781     25.82        73   \n73        73      new norfolk -42.7826  147.0587     24.84        31   \n84        84         pochutla  15.7432  -96.4661     26.01        73   \n178      178         santarem  -2.4431  -54.7083     26.07        94   \n220      220            arica -18.4750  -70.3042     23.13        68   \n292      292         mercedes -34.6515  -59.4307     22.58        68   \n330      330         cidreira -30.1811  -50.2056     22.49        89   \n449      449  lazaro cardenas  17.9583 -102.2000     24.25        80   \n457      457       vila velha -20.3297  -40.2925     24.97        88   \n512      512         dzaoudzi -12.7887   45.2699     25.94        89   \n537      537         belmonte -15.8631  -38.8828     24.62        82   \n\n     Cloudiness  Wind Speed Country        Date  \n4             0        1.54      RE  1675043057  \n73            0        0.88      AU  1675043101  \n84            0        1.87      MX  1675043108  \n178           0        1.03      BR  1675043043  \n220           0        1.03      CL  1675043137  \n292           0        4.09      AR  1675043223  \n330           0        0.19      BR  1675043248  \n449           0        1.39      MX  1675043310  \n457           0        2.57      BR  1675043315  \n512           0        1.54      YT  1675043346  \n537           0        2.86      BR  1675043365  ",
      "text/html": "<div>\n<style scoped>\n    .dataframe tbody tr th:only-of-type {\n        vertical-align: middle;\n    }\n\n    .dataframe tbody tr th {\n        vertical-align: top;\n    }\n\n    .dataframe thead th {\n        text-align: right;\n    }\n</style>\n<table border=\"1\" class=\"dataframe\">\n  <thead>\n    <tr style=\"text-align: right;\">\n      <th></th>\n      <th>City_ID</th>\n      <th>City</th>\n      <th>Lat</th>\n      <th>Lng</th>\n      <th>Max Temp</th>\n      <th>Humidity</th>\n      <th>Cloudiness</th>\n      <th>Wind Speed</th>\n      <th>Country</th>\n      <th>Date</th>\n    </tr>\n  </thead>\n  <tbody>\n    <tr>\n      <th>4</th>\n      <td>4</td>\n      <td>saint-pierre</td>\n      <td>-21.3393</td>\n      <td>55.4781</td>\n      <td>25.82</td>\n      <td>73</td>\n      <td>0</td>\n      <td>1.54</td>\n      <td>RE</td>\n      <td>1675043057</td>\n    </tr>\n    <tr>\n      <th>73</th>\n      <td>73</td>\n      <td>new norfolk</td>\n      <td>-42.7826</td>\n      <td>147.0587</td>\n      <td>24.84</td>\n      <td>31</td>\n      <td>0</td>\n      <td>0.88</td>\n      <td>AU</td>\n      <td>1675043101</td>\n    </tr>\n    <tr>\n      <th>84</th>\n      <td>84</td>\n      <td>pochutla</td>\n      <td>15.7432</td>\n      <td>-96.4661</td>\n      <td>26.01</td>\n      <td>73</td>\n      <td>0</td>\n      <td>1.87</td>\n      <td>MX</td>\n      <td>1675043108</td>\n    </tr>\n    <tr>\n      <th>178</th>\n      <td>178</td>\n      <td>santarem</td>\n      <td>-2.4431</td>\n      <td>-54.7083</td>\n      <td>26.07</td>\n      <td>94</td>\n      <td>0</td>\n      <td>1.03</td>\n      <td>BR</td>\n      <td>1675043043</td>\n    </tr>\n    <tr>\n      <th>220</th>\n      <td>220</td>\n      <td>arica</td>\n      <td>-18.4750</td>\n      <td>-70.3042</td>\n      <td>23.13</td>\n      <td>68</td>\n      <td>0</td>\n      <td>1.03</td>\n      <td>CL</td>\n      <td>1675043137</td>\n    </tr>\n    <tr>\n      <th>292</th>\n      <td>292</td>\n      <td>mercedes</td>\n      <td>-34.6515</td>\n      <td>-59.4307</td>\n      <td>22.58</td>\n      <td>68</td>\n      <td>0</td>\n      <td>4.09</td>\n      <td>AR</td>\n      <td>1675043223</td>\n    </tr>\n    <tr>\n      <th>330</th>\n      <td>330</td>\n      <td>cidreira</td>\n      <td>-30.1811</td>\n      <td>-50.2056</td>\n      <td>22.49</td>\n      <td>89</td>\n      <td>0</td>\n      <td>0.19</td>\n      <td>BR</td>\n      <td>1675043248</td>\n    </tr>\n    <tr>\n      <th>449</th>\n      <td>449</td>\n      <td>lazaro cardenas</td>\n      <td>17.9583</td>\n      <td>-102.2000</td>\n      <td>24.25</td>\n      <td>80</td>\n      <td>0</td>\n      <td>1.39</td>\n      <td>MX</td>\n      <td>1675043310</td>\n    </tr>\n    <tr>\n      <th>457</th>\n      <td>457</td>\n      <td>vila velha</td>\n      <td>-20.3297</td>\n      <td>-40.2925</td>\n      <td>24.97</td>\n      <td>88</td>\n      <td>0</td>\n      <td>2.57</td>\n      <td>BR</td>\n      <td>1675043315</td>\n    </tr>\n    <tr>\n      <th>512</th>\n      <td>512</td>\n      <td>dzaoudzi</td>\n      <td>-12.7887</td>\n      <td>45.2699</td>\n      <td>25.94</td>\n      <td>89</td>\n      <td>0</td>\n      <td>1.54</td>\n      <td>YT</td>\n      <td>1675043346</td>\n    </tr>\n    <tr>\n      <th>537</th>\n      <td>537</td>\n      <td>belmonte</td>\n      <td>-15.8631</td>\n      <td>-38.8828</td>\n      <td>24.62</td>\n      <td>82</td>\n      <td>0</td>\n      <td>2.86</td>\n      <td>BR</td>\n      <td>1675043365</td>\n    </tr>\n  </tbody>\n</table>\n</div>"
     },
     "execution_count": 13,
     "metadata": {},
     "output_type": "execute_result"
    }
   ],
   "source": [
    "# Narrow down cities that fit criteria and drop any results with null values\n",
    "\n",
    "#A max temperature lower than 27 degrees but higher than 21\n",
    "city_data_df = city_data_df.loc[(city_data_df[\"Max Temp\"] < 27) & (city_data_df[\"Max Temp\"] > 21)]\n",
    "\n",
    "#Wind speed less than 4.5 m/s\n",
    "city_data_df = city_data_df.loc[(city_data_df[\"Wind Speed\"] < 4.5)]\n",
    "\n",
    "#Zero cloudiness\n",
    "city_data_df = city_data_df.loc[(city_data_df[\"Cloudiness\"] == 0)]\n",
    "\n",
    "# Drop results with null values\n",
    "city_data_df = city_data_df.dropna()\n",
    "\n",
    "# Display sample data\n",
    "city_data_df"
   ]
  },
  {
   "cell_type": "markdown",
   "metadata": {},
   "source": [
    "### Step 3: Create a new DataFrame called `hotel_df`."
   ]
  },
  {
   "cell_type": "code",
   "execution_count": 14,
   "metadata": {
    "ExecuteTime": {
     "start_time": "2023-04-27T23:12:32.929526Z",
     "end_time": "2023-04-27T23:12:32.934806Z"
    }
   },
   "outputs": [
    {
     "name": "stderr",
     "output_type": "stream",
     "text": [
      "/var/folders/gz/yqwhjwdd6c75tl8kh7k5sr700000gn/T/ipykernel_82975/3677612766.py:9: FutureWarning: Passing a dict as an indexer is deprecated and will raise in a future version. Use a list instead.\n",
      "  hotel_df = city_data_df[{\"City\": city,\n",
      "/var/folders/gz/yqwhjwdd6c75tl8kh7k5sr700000gn/T/ipykernel_82975/3677612766.py:16: SettingWithCopyWarning: \n",
      "A value is trying to be set on a copy of a slice from a DataFrame.\n",
      "Try using .loc[row_indexer,col_indexer] = value instead\n",
      "\n",
      "See the caveats in the documentation: https://pandas.pydata.org/pandas-docs/stable/user_guide/indexing.html#returning-a-view-versus-a-copy\n",
      "  hotel_df[\"Hotel Name\"] = \"\"\n"
     ]
    },
    {
     "data": {
      "text/plain": "                City Country      Lat       Lng  Humidity Hotel Name\n4       saint-pierre      RE -21.3393   55.4781        73           \n73       new norfolk      AU -42.7826  147.0587        31           \n84          pochutla      MX  15.7432  -96.4661        73           \n178         santarem      BR  -2.4431  -54.7083        94           \n220            arica      CL -18.4750  -70.3042        68           \n292         mercedes      AR -34.6515  -59.4307        68           \n330         cidreira      BR -30.1811  -50.2056        89           \n449  lazaro cardenas      MX  17.9583 -102.2000        80           \n457       vila velha      BR -20.3297  -40.2925        88           \n512         dzaoudzi      YT -12.7887   45.2699        89           \n537         belmonte      BR -15.8631  -38.8828        82           ",
      "text/html": "<div>\n<style scoped>\n    .dataframe tbody tr th:only-of-type {\n        vertical-align: middle;\n    }\n\n    .dataframe tbody tr th {\n        vertical-align: top;\n    }\n\n    .dataframe thead th {\n        text-align: right;\n    }\n</style>\n<table border=\"1\" class=\"dataframe\">\n  <thead>\n    <tr style=\"text-align: right;\">\n      <th></th>\n      <th>City</th>\n      <th>Country</th>\n      <th>Lat</th>\n      <th>Lng</th>\n      <th>Humidity</th>\n      <th>Hotel Name</th>\n    </tr>\n  </thead>\n  <tbody>\n    <tr>\n      <th>4</th>\n      <td>saint-pierre</td>\n      <td>RE</td>\n      <td>-21.3393</td>\n      <td>55.4781</td>\n      <td>73</td>\n      <td></td>\n    </tr>\n    <tr>\n      <th>73</th>\n      <td>new norfolk</td>\n      <td>AU</td>\n      <td>-42.7826</td>\n      <td>147.0587</td>\n      <td>31</td>\n      <td></td>\n    </tr>\n    <tr>\n      <th>84</th>\n      <td>pochutla</td>\n      <td>MX</td>\n      <td>15.7432</td>\n      <td>-96.4661</td>\n      <td>73</td>\n      <td></td>\n    </tr>\n    <tr>\n      <th>178</th>\n      <td>santarem</td>\n      <td>BR</td>\n      <td>-2.4431</td>\n      <td>-54.7083</td>\n      <td>94</td>\n      <td></td>\n    </tr>\n    <tr>\n      <th>220</th>\n      <td>arica</td>\n      <td>CL</td>\n      <td>-18.4750</td>\n      <td>-70.3042</td>\n      <td>68</td>\n      <td></td>\n    </tr>\n    <tr>\n      <th>292</th>\n      <td>mercedes</td>\n      <td>AR</td>\n      <td>-34.6515</td>\n      <td>-59.4307</td>\n      <td>68</td>\n      <td></td>\n    </tr>\n    <tr>\n      <th>330</th>\n      <td>cidreira</td>\n      <td>BR</td>\n      <td>-30.1811</td>\n      <td>-50.2056</td>\n      <td>89</td>\n      <td></td>\n    </tr>\n    <tr>\n      <th>449</th>\n      <td>lazaro cardenas</td>\n      <td>MX</td>\n      <td>17.9583</td>\n      <td>-102.2000</td>\n      <td>80</td>\n      <td></td>\n    </tr>\n    <tr>\n      <th>457</th>\n      <td>vila velha</td>\n      <td>BR</td>\n      <td>-20.3297</td>\n      <td>-40.2925</td>\n      <td>88</td>\n      <td></td>\n    </tr>\n    <tr>\n      <th>512</th>\n      <td>dzaoudzi</td>\n      <td>YT</td>\n      <td>-12.7887</td>\n      <td>45.2699</td>\n      <td>89</td>\n      <td></td>\n    </tr>\n    <tr>\n      <th>537</th>\n      <td>belmonte</td>\n      <td>BR</td>\n      <td>-15.8631</td>\n      <td>-38.8828</td>\n      <td>82</td>\n      <td></td>\n    </tr>\n  </tbody>\n</table>\n</div>"
     },
     "execution_count": 14,
     "metadata": {},
     "output_type": "execute_result"
    }
   ],
   "source": [
    "# Use the Pandas copy function to create DataFrame called hotel_df to store the city, country, coordinates, and humidity\n",
    "\n",
    "city = city_data_df[\"City\"]\n",
    "country = city_data_df[\"Country\"]\n",
    "lat = city_data_df[\"Lat\"]\n",
    "lng = city_data_df[\"Lng\"]\n",
    "humidity = city_data_df[\"Humidity\"]\n",
    "\n",
    "hotel_df = city_data_df[{\"City\": city,\n",
    "                        \"Country\": country,\n",
    "                        \"Lat\": lat,\n",
    "                        \"Lng\": lng,\n",
    "                        \"Humidity\": humidity}]\n",
    "\n",
    "# Add an empty column, \"Hotel Name,\" to the DataFrame so you can store the hotel found using the Geoapify API\n",
    "hotel_df[\"Hotel Name\"] = \"\"\n",
    "\n",
    "# Display sample data\n",
    "hotel_df"
   ]
  },
  {
   "cell_type": "markdown",
   "metadata": {},
   "source": [
    "### Step 4: For each city, use the Geoapify API to find the first hotel located within 10,000 metres of your coordinates."
   ]
  },
  {
   "cell_type": "code",
   "execution_count": 15,
   "metadata": {
    "ExecuteTime": {
     "start_time": "2023-04-27T23:12:33.216965Z",
     "end_time": "2023-04-27T23:12:44.047991Z"
    }
   },
   "outputs": [
    {
     "name": "stdout",
     "output_type": "stream",
     "text": [
      "Starting hotel search\n",
      "saint-pierre - nearest hotel: Tropic Hotel\n",
      "new norfolk - nearest hotel: Woodbridge on the Derwent\n",
      "pochutla - nearest hotel: Posada San Jose\n",
      "santarem - nearest hotel: Prático Hotel\n",
      "arica - nearest hotel: Hotel Andalucía \n",
      "mercedes - nearest hotel: Gran Hotel Mercedes\n",
      "cidreira - nearest hotel: Hotel Castelo\n",
      "lazaro cardenas - nearest hotel: Hotel Sol del Pacífico\n",
      "vila velha - nearest hotel: Hotel Prainha\n",
      "dzaoudzi - nearest hotel: 2.0 hôtel\n",
      "belmonte - nearest hotel: No hotel found\n"
     ]
    },
    {
     "data": {
      "text/plain": "                City Country      Lat       Lng  Humidity  \\\n4       saint-pierre      RE -21.3393   55.4781        73   \n73       new norfolk      AU -42.7826  147.0587        31   \n84          pochutla      MX  15.7432  -96.4661        73   \n178         santarem      BR  -2.4431  -54.7083        94   \n220            arica      CL -18.4750  -70.3042        68   \n292         mercedes      AR -34.6515  -59.4307        68   \n330         cidreira      BR -30.1811  -50.2056        89   \n449  lazaro cardenas      MX  17.9583 -102.2000        80   \n457       vila velha      BR -20.3297  -40.2925        88   \n512         dzaoudzi      YT -12.7887   45.2699        89   \n537         belmonte      BR -15.8631  -38.8828        82   \n\n                    Hotel Name  \n4                 Tropic Hotel  \n73   Woodbridge on the Derwent  \n84             Posada San Jose  \n178              Prático Hotel  \n220           Hotel Andalucía   \n292        Gran Hotel Mercedes  \n330              Hotel Castelo  \n449     Hotel Sol del Pacífico  \n457              Hotel Prainha  \n512                  2.0 hôtel  \n537             No hotel found  ",
      "text/html": "<div>\n<style scoped>\n    .dataframe tbody tr th:only-of-type {\n        vertical-align: middle;\n    }\n\n    .dataframe tbody tr th {\n        vertical-align: top;\n    }\n\n    .dataframe thead th {\n        text-align: right;\n    }\n</style>\n<table border=\"1\" class=\"dataframe\">\n  <thead>\n    <tr style=\"text-align: right;\">\n      <th></th>\n      <th>City</th>\n      <th>Country</th>\n      <th>Lat</th>\n      <th>Lng</th>\n      <th>Humidity</th>\n      <th>Hotel Name</th>\n    </tr>\n  </thead>\n  <tbody>\n    <tr>\n      <th>4</th>\n      <td>saint-pierre</td>\n      <td>RE</td>\n      <td>-21.3393</td>\n      <td>55.4781</td>\n      <td>73</td>\n      <td>Tropic Hotel</td>\n    </tr>\n    <tr>\n      <th>73</th>\n      <td>new norfolk</td>\n      <td>AU</td>\n      <td>-42.7826</td>\n      <td>147.0587</td>\n      <td>31</td>\n      <td>Woodbridge on the Derwent</td>\n    </tr>\n    <tr>\n      <th>84</th>\n      <td>pochutla</td>\n      <td>MX</td>\n      <td>15.7432</td>\n      <td>-96.4661</td>\n      <td>73</td>\n      <td>Posada San Jose</td>\n    </tr>\n    <tr>\n      <th>178</th>\n      <td>santarem</td>\n      <td>BR</td>\n      <td>-2.4431</td>\n      <td>-54.7083</td>\n      <td>94</td>\n      <td>Prático Hotel</td>\n    </tr>\n    <tr>\n      <th>220</th>\n      <td>arica</td>\n      <td>CL</td>\n      <td>-18.4750</td>\n      <td>-70.3042</td>\n      <td>68</td>\n      <td>Hotel Andalucía</td>\n    </tr>\n    <tr>\n      <th>292</th>\n      <td>mercedes</td>\n      <td>AR</td>\n      <td>-34.6515</td>\n      <td>-59.4307</td>\n      <td>68</td>\n      <td>Gran Hotel Mercedes</td>\n    </tr>\n    <tr>\n      <th>330</th>\n      <td>cidreira</td>\n      <td>BR</td>\n      <td>-30.1811</td>\n      <td>-50.2056</td>\n      <td>89</td>\n      <td>Hotel Castelo</td>\n    </tr>\n    <tr>\n      <th>449</th>\n      <td>lazaro cardenas</td>\n      <td>MX</td>\n      <td>17.9583</td>\n      <td>-102.2000</td>\n      <td>80</td>\n      <td>Hotel Sol del Pacífico</td>\n    </tr>\n    <tr>\n      <th>457</th>\n      <td>vila velha</td>\n      <td>BR</td>\n      <td>-20.3297</td>\n      <td>-40.2925</td>\n      <td>88</td>\n      <td>Hotel Prainha</td>\n    </tr>\n    <tr>\n      <th>512</th>\n      <td>dzaoudzi</td>\n      <td>YT</td>\n      <td>-12.7887</td>\n      <td>45.2699</td>\n      <td>89</td>\n      <td>2.0 hôtel</td>\n    </tr>\n    <tr>\n      <th>537</th>\n      <td>belmonte</td>\n      <td>BR</td>\n      <td>-15.8631</td>\n      <td>-38.8828</td>\n      <td>82</td>\n      <td>No hotel found</td>\n    </tr>\n  </tbody>\n</table>\n</div>"
     },
     "execution_count": 15,
     "metadata": {},
     "output_type": "execute_result"
    }
   ],
   "source": [
    "# Set parameters to search for a hotel\n",
    "radius = 10000\n",
    "params = {\n",
    "    \"categories\": \"accommodation.hotel\",\n",
    "    \"apiKey\":geoapify_key\n",
    "}\n",
    "\n",
    "# Print a message to follow up the hotel search\n",
    "print(\"Starting hotel search\")\n",
    "\n",
    "# Iterate through the hotel_df DataFrame\n",
    "for index, row in hotel_df.iterrows():\n",
    "    # get latitude, longitude from the DataFrame\n",
    "    lat = row[\"Lat\"]\n",
    "    lon = row[\"Lng\"]\n",
    "    \n",
    "    # Add filter and bias parameters with the current city's latitude and longitude to the params dictionary\n",
    "    params[\"filter\"] = f\"circle:{lon},{lat},{radius}\"\n",
    "    params[\"bias\"] = f\"proximity:{lon},{lat}\"\n",
    "    \n",
    "    # Set base URL\n",
    "    base_url = \"https://api.geoapify.com/v2/places\"\n",
    "\n",
    "    # Make and API request using the params dictionary\n",
    "    name_address = requests.get(base_url, params=params)\n",
    "    \n",
    "    # Convert the API response to JSON format\n",
    "    name_address = name_address.json()\n",
    "    \n",
    "    # Grab the first hotel from the results and store the name in the hotel_df DataFrame\n",
    "    try:\n",
    "        hotel_df.loc[index, \"Hotel Name\"] = name_address[\"features\"][0][\"properties\"][\"name\"]\n",
    "    except (KeyError, IndexError):\n",
    "        # If no hotel is found, set the hotel name as \"No hotel found\".\n",
    "        hotel_df.loc[index, \"Hotel Name\"] = \"No hotel found\"\n",
    "        \n",
    "    # Log the search results\n",
    "    print(f\"{hotel_df.loc[index, 'City']} - nearest hotel: {hotel_df.loc[index, 'Hotel Name']}\")\n",
    "\n",
    "# Display sample data\n",
    "hotel_df"
   ]
  },
  {
   "cell_type": "code",
   "execution_count": 16,
   "metadata": {
    "ExecuteTime": {
     "start_time": "2023-04-27T23:12:44.050541Z",
     "end_time": "2023-04-27T23:12:44.053172Z"
    }
   },
   "outputs": [
    {
     "data": {
      "text/plain": "{'type': 'FeatureCollection', 'features': []}"
     },
     "execution_count": 16,
     "metadata": {},
     "output_type": "execute_result"
    }
   ],
   "source": [
    "name_address"
   ]
  },
  {
   "cell_type": "markdown",
   "metadata": {},
   "source": [
    "### Step 5: Add the hotel name and the country as additional information in the hover message for each city in the map."
   ]
  },
  {
   "cell_type": "code",
   "execution_count": 17,
   "metadata": {
    "ExecuteTime": {
     "start_time": "2023-04-27T23:12:44.055937Z",
     "end_time": "2023-04-27T23:12:44.109254Z"
    }
   },
   "outputs": [
    {
     "ename": "ImportError",
     "evalue": "Geographic projection support requires GeoViews and cartopy.",
     "output_type": "error",
     "traceback": [
      "\u001B[0;31m---------------------------------------------------------------------------\u001B[0m",
      "\u001B[0;31mModuleNotFoundError\u001B[0m                       Traceback (most recent call last)",
      "\u001B[0;32m~/opt/anaconda3/lib/python3.9/site-packages/hvplot/util.py\u001B[0m in \u001B[0;36mprocess_crs\u001B[0;34m(crs)\u001B[0m\n\u001B[1;32m    231\u001B[0m     \u001B[0;32mtry\u001B[0m\u001B[0;34m:\u001B[0m\u001B[0;34m\u001B[0m\u001B[0;34m\u001B[0m\u001B[0m\n\u001B[0;32m--> 232\u001B[0;31m         \u001B[0;32mimport\u001B[0m \u001B[0mcartopy\u001B[0m\u001B[0;34m.\u001B[0m\u001B[0mcrs\u001B[0m \u001B[0;32mas\u001B[0m \u001B[0mccrs\u001B[0m\u001B[0;34m\u001B[0m\u001B[0;34m\u001B[0m\u001B[0m\n\u001B[0m\u001B[1;32m    233\u001B[0m         \u001B[0;32mimport\u001B[0m \u001B[0mgeoviews\u001B[0m \u001B[0;32mas\u001B[0m \u001B[0mgv\u001B[0m \u001B[0;31m# noqa\u001B[0m\u001B[0;34m\u001B[0m\u001B[0;34m\u001B[0m\u001B[0m\n",
      "\u001B[0;31mModuleNotFoundError\u001B[0m: No module named 'cartopy'",
      "\nDuring handling of the above exception, another exception occurred:\n",
      "\u001B[0;31mImportError\u001B[0m                               Traceback (most recent call last)",
      "\u001B[0;32m/var/folders/gz/yqwhjwdd6c75tl8kh7k5sr700000gn/T/ipykernel_82975/1015955235.py\u001B[0m in \u001B[0;36m<module>\u001B[0;34m\u001B[0m\n\u001B[1;32m      1\u001B[0m \u001B[0;31m# Configure the map plot\u001B[0m\u001B[0;34m\u001B[0m\u001B[0;34m\u001B[0m\u001B[0m\n\u001B[0;32m----> 2\u001B[0;31m map_plot_2 = hotel_df.hvplot.points(\n\u001B[0m\u001B[1;32m      3\u001B[0m     \u001B[0;34m\"Lng\"\u001B[0m\u001B[0;34m,\u001B[0m\u001B[0;34m\u001B[0m\u001B[0;34m\u001B[0m\u001B[0m\n\u001B[1;32m      4\u001B[0m     \u001B[0;34m\"Lat\"\u001B[0m\u001B[0;34m,\u001B[0m\u001B[0;34m\u001B[0m\u001B[0;34m\u001B[0m\u001B[0m\n\u001B[1;32m      5\u001B[0m     \u001B[0mgeo\u001B[0m \u001B[0;34m=\u001B[0m \u001B[0;32mTrue\u001B[0m\u001B[0;34m,\u001B[0m\u001B[0;34m\u001B[0m\u001B[0;34m\u001B[0m\u001B[0m\n",
      "\u001B[0;32m~/opt/anaconda3/lib/python3.9/site-packages/hvplot/plotting/core.py\u001B[0m in \u001B[0;36mpoints\u001B[0;34m(self, x, y, **kwds)\u001B[0m\n\u001B[1;32m    520\u001B[0m             \u001B[0mThe\u001B[0m \u001B[0mHoloViews\u001B[0m \u001B[0mrepresentation\u001B[0m \u001B[0mof\u001B[0m \u001B[0mthe\u001B[0m \u001B[0mplot\u001B[0m\u001B[0;34m.\u001B[0m\u001B[0;34m\u001B[0m\u001B[0;34m\u001B[0m\u001B[0m\n\u001B[1;32m    521\u001B[0m         \"\"\"\n\u001B[0;32m--> 522\u001B[0;31m         \u001B[0;32mreturn\u001B[0m \u001B[0mself\u001B[0m\u001B[0;34m(\u001B[0m\u001B[0mx\u001B[0m\u001B[0;34m,\u001B[0m \u001B[0my\u001B[0m\u001B[0;34m,\u001B[0m \u001B[0mkind\u001B[0m\u001B[0;34m=\u001B[0m\u001B[0;34m'points'\u001B[0m\u001B[0;34m,\u001B[0m \u001B[0;34m**\u001B[0m\u001B[0mkwds\u001B[0m\u001B[0;34m)\u001B[0m\u001B[0;34m\u001B[0m\u001B[0;34m\u001B[0m\u001B[0m\n\u001B[0m\u001B[1;32m    523\u001B[0m \u001B[0;34m\u001B[0m\u001B[0m\n\u001B[1;32m    524\u001B[0m     \u001B[0;32mdef\u001B[0m \u001B[0mvectorfield\u001B[0m\u001B[0;34m(\u001B[0m\u001B[0mself\u001B[0m\u001B[0;34m,\u001B[0m \u001B[0mx\u001B[0m\u001B[0;34m=\u001B[0m\u001B[0;32mNone\u001B[0m\u001B[0;34m,\u001B[0m \u001B[0my\u001B[0m\u001B[0;34m=\u001B[0m\u001B[0;32mNone\u001B[0m\u001B[0;34m,\u001B[0m \u001B[0mangle\u001B[0m\u001B[0;34m=\u001B[0m\u001B[0;32mNone\u001B[0m\u001B[0;34m,\u001B[0m \u001B[0mmag\u001B[0m\u001B[0;34m=\u001B[0m\u001B[0;32mNone\u001B[0m\u001B[0;34m,\u001B[0m \u001B[0;34m**\u001B[0m\u001B[0mkwds\u001B[0m\u001B[0;34m)\u001B[0m\u001B[0;34m:\u001B[0m\u001B[0;34m\u001B[0m\u001B[0;34m\u001B[0m\u001B[0m\n",
      "\u001B[0;32m~/opt/anaconda3/lib/python3.9/site-packages/hvplot/plotting/core.py\u001B[0m in \u001B[0;36m__call__\u001B[0;34m(self, x, y, kind, **kwds)\u001B[0m\n\u001B[1;32m     80\u001B[0m                 \u001B[0;32mreturn\u001B[0m \u001B[0mpn\u001B[0m\u001B[0;34m.\u001B[0m\u001B[0mpanel\u001B[0m\u001B[0;34m(\u001B[0m\u001B[0mplot\u001B[0m\u001B[0;34m,\u001B[0m \u001B[0;34m**\u001B[0m\u001B[0mpanel_dict\u001B[0m\u001B[0;34m)\u001B[0m\u001B[0;34m\u001B[0m\u001B[0;34m\u001B[0m\u001B[0m\n\u001B[1;32m     81\u001B[0m \u001B[0;34m\u001B[0m\u001B[0m\n\u001B[0;32m---> 82\u001B[0;31m         \u001B[0;32mreturn\u001B[0m \u001B[0mself\u001B[0m\u001B[0;34m.\u001B[0m\u001B[0m_get_converter\u001B[0m\u001B[0;34m(\u001B[0m\u001B[0mx\u001B[0m\u001B[0;34m,\u001B[0m \u001B[0my\u001B[0m\u001B[0;34m,\u001B[0m \u001B[0mkind\u001B[0m\u001B[0;34m,\u001B[0m \u001B[0;34m**\u001B[0m\u001B[0mkwds\u001B[0m\u001B[0;34m)\u001B[0m\u001B[0;34m(\u001B[0m\u001B[0mkind\u001B[0m\u001B[0;34m,\u001B[0m \u001B[0mx\u001B[0m\u001B[0;34m,\u001B[0m \u001B[0my\u001B[0m\u001B[0;34m)\u001B[0m\u001B[0;34m\u001B[0m\u001B[0;34m\u001B[0m\u001B[0m\n\u001B[0m\u001B[1;32m     83\u001B[0m \u001B[0;34m\u001B[0m\u001B[0m\n\u001B[1;32m     84\u001B[0m     \u001B[0;32mdef\u001B[0m \u001B[0m_get_converter\u001B[0m\u001B[0;34m(\u001B[0m\u001B[0mself\u001B[0m\u001B[0;34m,\u001B[0m \u001B[0mx\u001B[0m\u001B[0;34m=\u001B[0m\u001B[0;32mNone\u001B[0m\u001B[0;34m,\u001B[0m \u001B[0my\u001B[0m\u001B[0;34m=\u001B[0m\u001B[0;32mNone\u001B[0m\u001B[0;34m,\u001B[0m \u001B[0mkind\u001B[0m\u001B[0;34m=\u001B[0m\u001B[0;32mNone\u001B[0m\u001B[0;34m,\u001B[0m \u001B[0;34m**\u001B[0m\u001B[0mkwds\u001B[0m\u001B[0;34m)\u001B[0m\u001B[0;34m:\u001B[0m\u001B[0;34m\u001B[0m\u001B[0;34m\u001B[0m\u001B[0m\n",
      "\u001B[0;32m~/opt/anaconda3/lib/python3.9/site-packages/hvplot/plotting/core.py\u001B[0m in \u001B[0;36m_get_converter\u001B[0;34m(self, x, y, kind, **kwds)\u001B[0m\n\u001B[1;32m     87\u001B[0m         \u001B[0my\u001B[0m \u001B[0;34m=\u001B[0m \u001B[0my\u001B[0m \u001B[0;32mor\u001B[0m \u001B[0mparams\u001B[0m\u001B[0;34m.\u001B[0m\u001B[0mpop\u001B[0m\u001B[0;34m(\u001B[0m\u001B[0;34m'y'\u001B[0m\u001B[0;34m,\u001B[0m \u001B[0;32mNone\u001B[0m\u001B[0;34m)\u001B[0m\u001B[0;34m\u001B[0m\u001B[0;34m\u001B[0m\u001B[0m\n\u001B[1;32m     88\u001B[0m         \u001B[0mkind\u001B[0m \u001B[0;34m=\u001B[0m \u001B[0mkind\u001B[0m \u001B[0;32mor\u001B[0m \u001B[0mparams\u001B[0m\u001B[0;34m.\u001B[0m\u001B[0mpop\u001B[0m\u001B[0;34m(\u001B[0m\u001B[0;34m'kind'\u001B[0m\u001B[0;34m,\u001B[0m \u001B[0;32mNone\u001B[0m\u001B[0;34m)\u001B[0m\u001B[0;34m\u001B[0m\u001B[0;34m\u001B[0m\u001B[0m\n\u001B[0;32m---> 89\u001B[0;31m         return HoloViewsConverter(\n\u001B[0m\u001B[1;32m     90\u001B[0m             \u001B[0mself\u001B[0m\u001B[0;34m.\u001B[0m\u001B[0m_data\u001B[0m\u001B[0;34m,\u001B[0m \u001B[0mx\u001B[0m\u001B[0;34m,\u001B[0m \u001B[0my\u001B[0m\u001B[0;34m,\u001B[0m \u001B[0mkind\u001B[0m\u001B[0;34m=\u001B[0m\u001B[0mkind\u001B[0m\u001B[0;34m,\u001B[0m \u001B[0;34m**\u001B[0m\u001B[0mparams\u001B[0m\u001B[0;34m\u001B[0m\u001B[0;34m\u001B[0m\u001B[0m\n\u001B[1;32m     91\u001B[0m         )\n",
      "\u001B[0;32m~/opt/anaconda3/lib/python3.9/site-packages/hvplot/converter.py\u001B[0m in \u001B[0;36m__init__\u001B[0;34m(self, data, x, y, kind, by, use_index, group_label, value_label, backlog, persist, use_dask, crs, fields, groupby, dynamic, grid, legend, rot, title, xlim, ylim, clim, symmetric, logx, logy, loglog, hover, subplots, label, invert, stacked, colorbar, datashade, rasterize, row, col, debug, framewise, aggregator, projection, global_extent, geo, precompute, flip_xaxis, flip_yaxis, dynspread, hover_cols, x_sampling, y_sampling, project, tools, attr_labels, coastline, tiles, sort_date, check_symmetric_max, transforms, stream, cnorm, features, rescale_discrete_levels, **kwds)\u001B[0m\n\u001B[1;32m    386\u001B[0m         \u001B[0mself\u001B[0m\u001B[0;34m.\u001B[0m\u001B[0mdynamic\u001B[0m \u001B[0;34m=\u001B[0m \u001B[0mdynamic\u001B[0m\u001B[0;34m\u001B[0m\u001B[0;34m\u001B[0m\u001B[0m\n\u001B[1;32m    387\u001B[0m         \u001B[0mself\u001B[0m\u001B[0;34m.\u001B[0m\u001B[0mgeo\u001B[0m \u001B[0;34m=\u001B[0m \u001B[0many\u001B[0m\u001B[0;34m(\u001B[0m\u001B[0;34m[\u001B[0m\u001B[0mgeo\u001B[0m\u001B[0;34m,\u001B[0m \u001B[0mcrs\u001B[0m\u001B[0;34m,\u001B[0m \u001B[0mglobal_extent\u001B[0m\u001B[0;34m,\u001B[0m \u001B[0mprojection\u001B[0m\u001B[0;34m,\u001B[0m \u001B[0mproject\u001B[0m\u001B[0;34m,\u001B[0m \u001B[0mcoastline\u001B[0m\u001B[0;34m,\u001B[0m \u001B[0mfeatures\u001B[0m\u001B[0;34m]\u001B[0m\u001B[0;34m)\u001B[0m\u001B[0;34m\u001B[0m\u001B[0;34m\u001B[0m\u001B[0m\n\u001B[0;32m--> 388\u001B[0;31m         \u001B[0mself\u001B[0m\u001B[0;34m.\u001B[0m\u001B[0mcrs\u001B[0m \u001B[0;34m=\u001B[0m \u001B[0mself\u001B[0m\u001B[0;34m.\u001B[0m\u001B[0m_process_crs\u001B[0m\u001B[0;34m(\u001B[0m\u001B[0mdata\u001B[0m\u001B[0;34m,\u001B[0m \u001B[0mcrs\u001B[0m\u001B[0;34m)\u001B[0m \u001B[0;32mif\u001B[0m \u001B[0mself\u001B[0m\u001B[0;34m.\u001B[0m\u001B[0mgeo\u001B[0m \u001B[0;32melse\u001B[0m \u001B[0;32mNone\u001B[0m\u001B[0;34m\u001B[0m\u001B[0;34m\u001B[0m\u001B[0m\n\u001B[0m\u001B[1;32m    389\u001B[0m         \u001B[0mself\u001B[0m\u001B[0;34m.\u001B[0m\u001B[0mproject\u001B[0m \u001B[0;34m=\u001B[0m \u001B[0mproject\u001B[0m\u001B[0;34m\u001B[0m\u001B[0;34m\u001B[0m\u001B[0m\n\u001B[1;32m    390\u001B[0m         \u001B[0mself\u001B[0m\u001B[0;34m.\u001B[0m\u001B[0mcoastline\u001B[0m \u001B[0;34m=\u001B[0m \u001B[0mcoastline\u001B[0m\u001B[0;34m\u001B[0m\u001B[0;34m\u001B[0m\u001B[0m\n",
      "\u001B[0;32m~/opt/anaconda3/lib/python3.9/site-packages/hvplot/converter.py\u001B[0m in \u001B[0;36m_process_crs\u001B[0;34m(self, data, crs)\u001B[0m\n\u001B[1;32m    628\u001B[0m         \u001B[0m_crs\u001B[0m \u001B[0;34m=\u001B[0m \u001B[0mgetattr\u001B[0m\u001B[0;34m(\u001B[0m\u001B[0mdata\u001B[0m\u001B[0;34m,\u001B[0m \u001B[0;34m'attrs'\u001B[0m\u001B[0;34m,\u001B[0m \u001B[0;34m{\u001B[0m\u001B[0;34m}\u001B[0m\u001B[0;34m)\u001B[0m\u001B[0;34m.\u001B[0m\u001B[0mget\u001B[0m\u001B[0;34m(\u001B[0m\u001B[0mcrs\u001B[0m \u001B[0;32mor\u001B[0m \u001B[0;34m'crs'\u001B[0m\u001B[0;34m,\u001B[0m \u001B[0mcrs\u001B[0m\u001B[0;34m)\u001B[0m\u001B[0;34m\u001B[0m\u001B[0;34m\u001B[0m\u001B[0m\n\u001B[1;32m    629\u001B[0m         \u001B[0;32mtry\u001B[0m\u001B[0;34m:\u001B[0m\u001B[0;34m\u001B[0m\u001B[0;34m\u001B[0m\u001B[0m\n\u001B[0;32m--> 630\u001B[0;31m             \u001B[0;32mreturn\u001B[0m \u001B[0mprocess_crs\u001B[0m\u001B[0;34m(\u001B[0m\u001B[0m_crs\u001B[0m\u001B[0;34m)\u001B[0m\u001B[0;34m\u001B[0m\u001B[0;34m\u001B[0m\u001B[0m\n\u001B[0m\u001B[1;32m    631\u001B[0m         \u001B[0;32mexcept\u001B[0m \u001B[0mValueError\u001B[0m\u001B[0;34m:\u001B[0m\u001B[0;34m\u001B[0m\u001B[0;34m\u001B[0m\u001B[0m\n\u001B[1;32m    632\u001B[0m             \u001B[0;31m# only raise error if crs was specified in kwargs\u001B[0m\u001B[0;34m\u001B[0m\u001B[0;34m\u001B[0m\u001B[0m\n",
      "\u001B[0;32m~/opt/anaconda3/lib/python3.9/site-packages/hvplot/util.py\u001B[0m in \u001B[0;36mprocess_crs\u001B[0;34m(crs)\u001B[0m\n\u001B[1;32m    234\u001B[0m         \u001B[0;32mimport\u001B[0m \u001B[0mpyproj\u001B[0m\u001B[0;34m\u001B[0m\u001B[0;34m\u001B[0m\u001B[0m\n\u001B[1;32m    235\u001B[0m     \u001B[0;32mexcept\u001B[0m \u001B[0mImportError\u001B[0m\u001B[0;34m:\u001B[0m\u001B[0;34m\u001B[0m\u001B[0;34m\u001B[0m\u001B[0m\n\u001B[0;32m--> 236\u001B[0;31m         \u001B[0;32mraise\u001B[0m \u001B[0mImportError\u001B[0m\u001B[0;34m(\u001B[0m\u001B[0;34m'Geographic projection support requires GeoViews and cartopy.'\u001B[0m\u001B[0;34m)\u001B[0m\u001B[0;34m\u001B[0m\u001B[0;34m\u001B[0m\u001B[0m\n\u001B[0m\u001B[1;32m    237\u001B[0m \u001B[0;34m\u001B[0m\u001B[0m\n\u001B[1;32m    238\u001B[0m     \u001B[0;32mif\u001B[0m \u001B[0mcrs\u001B[0m \u001B[0;32mis\u001B[0m \u001B[0;32mNone\u001B[0m\u001B[0;34m:\u001B[0m\u001B[0;34m\u001B[0m\u001B[0;34m\u001B[0m\u001B[0m\n",
      "\u001B[0;31mImportError\u001B[0m: Geographic projection support requires GeoViews and cartopy."
     ]
    }
   ],
   "source": [
    "%%capture --no-display\n",
    "\n",
    "# Configure the map plot\n",
    "map_plot_2 = hotel_df.hvplot.points(\n",
    "    \"Lng\",\n",
    "    \"Lat\",\n",
    "    geo = True,\n",
    "    tiles = \"OSM\",\n",
    "    frame_width = 800,\n",
    "    frame_height = 600,\n",
    "    size = \"Humidity\",\n",
    "    color=\"City\",\n",
    "    alpha=.75,\n",
    "    hover_cols=[\"Hotel Name\", \"Country\"]\n",
    ")\n",
    "\n",
    "# Display the map\n",
    "map_plot_2"
   ]
  },
  {
   "cell_type": "code",
   "execution_count": 17,
   "metadata": {
    "ExecuteTime": {
     "start_time": "2023-04-27T23:12:44.070420Z",
     "end_time": "2023-04-27T23:12:44.120478Z"
    }
   },
   "outputs": [],
   "source": []
  },
  {
   "cell_type": "code",
   "execution_count": 17,
   "outputs": [],
   "source": [],
   "metadata": {
    "collapsed": false,
    "ExecuteTime": {
     "start_time": "2023-04-27T23:12:44.073274Z",
     "end_time": "2023-04-27T23:12:44.120807Z"
    }
   }
  },
  {
   "cell_type": "code",
   "execution_count": 17,
   "outputs": [],
   "source": [],
   "metadata": {
    "collapsed": false,
    "ExecuteTime": {
     "start_time": "2023-04-27T23:12:44.076753Z",
     "end_time": "2023-04-27T23:12:44.120860Z"
    }
   }
  },
  {
   "cell_type": "code",
   "execution_count": null,
   "outputs": [],
   "source": [],
   "metadata": {
    "collapsed": false
   }
  }
 ],
 "metadata": {
  "kernelspec": {
   "name": "python3",
   "language": "python",
   "display_name": "Python 3 (ipykernel)"
  },
  "language_info": {
   "codemirror_mode": {
    "name": "ipython",
    "version": 3
   },
   "file_extension": ".py",
   "mimetype": "text/x-python",
   "name": "python",
   "nbconvert_exporter": "python",
   "pygments_lexer": "ipython3",
   "version": "3.7.7"
  },
  "latex_envs": {
   "LaTeX_envs_menu_present": true,
   "autoclose": false,
   "autocomplete": true,
   "bibliofile": "biblio.bib",
   "cite_by": "apalike",
   "current_citInitial": 1,
   "eqLabelWithNumbers": true,
   "eqNumInitial": 1,
   "hotkeys": {
    "equation": "Ctrl-E",
    "itemize": "Ctrl-I"
   },
   "labels_anchors": false,
   "latex_user_defs": false,
   "report_style_numbering": false,
   "user_envs_cfg": false
  }
 },
 "nbformat": 4,
 "nbformat_minor": 4
}
